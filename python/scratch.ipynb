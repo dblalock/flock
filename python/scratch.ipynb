{
 "metadata": {
  "name": ""
 },
 "nbformat": 3,
 "nbformat_minor": 0,
 "worksheets": [
  {
   "cells": [
    {
     "cell_type": "code",
     "collapsed": false,
     "input": [
      "import numpy as np\n",
      "import pandas as pd\n",
      "import matplotlib.pyplot as plt\n",
      "\n",
      "from datasets import synthetic as synth\n",
      "\n",
      "%matplotlib inline\n",
      "%load_ext autoreload\n",
      "%autoreload 2"
     ],
     "language": "python",
     "metadata": {},
     "outputs": [],
     "prompt_number": 1
    },
    {
     "cell_type": "code",
     "collapsed": false,
     "input": [
      "A = np.arange(12).reshape((4,3))\n",
      "A"
     ],
     "language": "python",
     "metadata": {},
     "outputs": [
      {
       "metadata": {},
       "output_type": "pyout",
       "prompt_number": 2,
       "text": [
        "array([[ 0,  1,  2],\n",
        "       [ 3,  4,  5],\n",
        "       [ 6,  7,  8],\n",
        "       [ 9, 10, 11]])"
       ]
      }
     ],
     "prompt_number": 2
    },
    {
     "cell_type": "code",
     "collapsed": false,
     "input": [
      "y = np.array([2,1,1,3])\n",
      "print np.unique(y).tolist()\n",
      "idxs = [np.where(y == val)[0] for val in np.unique(y).tolist()]\n",
      "idxs\n",
      "# df = pd.DataFrame()\n",
      "# df[\"X\"] = A\n",
      "# df['y'] = y\n",
      "# df"
     ],
     "language": "python",
     "metadata": {},
     "outputs": [
      {
       "output_type": "stream",
       "stream": "stdout",
       "text": [
        "[1, 2, 3]\n"
       ]
      },
      {
       "metadata": {},
       "output_type": "pyout",
       "prompt_number": 3,
       "text": [
        "[array([1, 2]), array([0]), array([3])]"
       ]
      }
     ],
     "prompt_number": 3
    },
    {
     "cell_type": "code",
     "collapsed": false,
     "input": [
      "grouped = [A[idx] for idx in idxs]\n",
      "print grouped\n",
      "# map(lambda rows: rows, grouped)\n",
      "map(lambda rows: rows.mean(axis=0), grouped)"
     ],
     "language": "python",
     "metadata": {},
     "outputs": [
      {
       "output_type": "stream",
       "stream": "stdout",
       "text": [
        "[array([[3, 4, 5],\n",
        "       [6, 7, 8]]), array([[0, 1, 2]]), array([[ 9, 10, 11]])]\n"
       ]
      },
      {
       "metadata": {},
       "output_type": "pyout",
       "prompt_number": 4,
       "text": [
        "[array([ 4.5,  5.5,  6.5]), array([ 0.,  1.,  2.]), array([  9.,  10.,  11.])]"
       ]
      }
     ],
     "prompt_number": 4
    },
    {
     "cell_type": "code",
     "collapsed": false,
     "input": [
      "filter(lambda x: x==1, [1,2])"
     ],
     "language": "python",
     "metadata": {},
     "outputs": [
      {
       "metadata": {},
       "output_type": "pyout",
       "prompt_number": 5,
       "text": [
        "[1]"
       ]
      }
     ],
     "prompt_number": 5
    },
    {
     "cell_type": "code",
     "collapsed": false,
     "input": [
      "x = np.arange(6)\n",
      "x = np.r_[x, x]\n",
      "x"
     ],
     "language": "python",
     "metadata": {},
     "outputs": [
      {
       "metadata": {},
       "output_type": "pyout",
       "prompt_number": 6,
       "text": [
        "array([0, 1, 2, 3, 4, 5, 0, 1, 2, 3, 4, 5])"
       ]
      }
     ],
     "prompt_number": 6
    },
    {
     "cell_type": "code",
     "collapsed": false,
     "input": [
      "print A*A\n",
      "np.sum(A * A, axis=1)"
     ],
     "language": "python",
     "metadata": {},
     "outputs": [
      {
       "output_type": "stream",
       "stream": "stdout",
       "text": [
        "[[  0   1   4]\n",
        " [  9  16  25]\n",
        " [ 36  49  64]\n",
        " [ 81 100 121]]\n"
       ]
      },
      {
       "metadata": {},
       "output_type": "pyout",
       "prompt_number": 7,
       "text": [
        "array([  5,  50, 149, 302])"
       ]
      }
     ],
     "prompt_number": 7
    },
    {
     "cell_type": "code",
     "collapsed": false,
     "input": [
      "x = np.arange(12)[::-1]\n",
      "print x\n",
      "print np.argmin(x)\n",
      "print np.argmax(x)"
     ],
     "language": "python",
     "metadata": {},
     "outputs": [
      {
       "output_type": "stream",
       "stream": "stdout",
       "text": [
        "[11 10  9  8  7  6  5  4  3  2  1  0]\n",
        "11\n",
        "0\n"
       ]
      }
     ],
     "prompt_number": 8
    },
    {
     "cell_type": "code",
     "collapsed": false,
     "input": [
      "B = np.arange(36).reshape((6,3,2))\n",
      "for el in B: print el"
     ],
     "language": "python",
     "metadata": {},
     "outputs": [
      {
       "output_type": "stream",
       "stream": "stdout",
       "text": [
        "[[0 1]\n",
        " [2 3]\n",
        " [4 5]]\n",
        "[[ 6  7]\n",
        " [ 8  9]\n",
        " [10 11]]\n",
        "[[12 13]\n",
        " [14 15]\n",
        " [16 17]]\n",
        "[[18 19]\n",
        " [20 21]\n",
        " [22 23]]\n",
        "[[24 25]\n",
        " [26 27]\n",
        " [28 29]]\n",
        "[[30 31]\n",
        " [32 33]\n",
        " [34 35]]\n"
       ]
      }
     ],
     "prompt_number": 9
    },
    {
     "cell_type": "code",
     "collapsed": false,
     "input": [
      "B[0].flatten()"
     ],
     "language": "python",
     "metadata": {},
     "outputs": [
      {
       "metadata": {},
       "output_type": "pyout",
       "prompt_number": 11,
       "text": [
        "array([0, 1, 2, 3, 4, 5])"
       ]
      }
     ],
     "prompt_number": 11
    },
    {
     "cell_type": "code",
     "collapsed": false,
     "input": [
      "5 // 2."
     ],
     "language": "python",
     "metadata": {},
     "outputs": [
      {
       "metadata": {},
       "output_type": "pyout",
       "prompt_number": 12,
       "text": [
        "2.0"
       ]
      }
     ],
     "prompt_number": 12
    },
    {
     "cell_type": "code",
     "collapsed": false,
     "input": [
      "np.linspace(6, 0, num=20)"
     ],
     "language": "python",
     "metadata": {},
     "outputs": [
      {
       "metadata": {},
       "output_type": "pyout",
       "prompt_number": 13,
       "text": [
        "array([ 6.        ,  5.68421053,  5.36842105,  5.05263158,  4.73684211,\n",
        "        4.42105263,  4.10526316,  3.78947368,  3.47368421,  3.15789474,\n",
        "        2.84210526,  2.52631579,  2.21052632,  1.89473684,  1.57894737,\n",
        "        1.26315789,  0.94736842,  0.63157895,  0.31578947,  0.        ])"
       ]
      }
     ],
     "prompt_number": 13
    },
    {
     "cell_type": "code",
     "collapsed": false,
     "input": [
      "np.random.randn()"
     ],
     "language": "python",
     "metadata": {},
     "outputs": [
      {
       "metadata": {},
       "output_type": "pyout",
       "prompt_number": 14,
       "text": [
        "-0.533605196434225"
       ]
      }
     ],
     "prompt_number": 14
    },
    {
     "cell_type": "code",
     "collapsed": false,
     "input": [
      "x * False"
     ],
     "language": "python",
     "metadata": {},
     "outputs": [
      {
       "metadata": {},
       "output_type": "pyout",
       "prompt_number": 15,
       "text": [
        "array([0, 0, 0, 0, 0, 0, 0, 0, 0, 0, 0, 0])"
       ]
      }
     ],
     "prompt_number": 15
    },
    {
     "cell_type": "code",
     "collapsed": false,
     "input": [
      "l = [A, A]\n",
      "print l\n",
      "print np.asarray(l).reshape((-1,A.shape[1]))"
     ],
     "language": "python",
     "metadata": {},
     "outputs": [
      {
       "output_type": "stream",
       "stream": "stdout",
       "text": [
        "[array([[ 0,  1,  2],\n",
        "       [ 3,  4,  5],\n",
        "       [ 6,  7,  8],\n",
        "       [ 9, 10, 11]]), array([[ 0,  1,  2],\n",
        "       [ 3,  4,  5],\n",
        "       [ 6,  7,  8],\n",
        "       [ 9, 10, 11]])]\n",
        "[[ 0  1  2]\n",
        " [ 3  4  5]\n",
        " [ 6  7  8]\n",
        " [ 9 10 11]\n",
        " [ 0  1  2]\n",
        " [ 3  4  5]\n",
        " [ 6  7  8]\n",
        " [ 9 10 11]]\n"
       ]
      }
     ],
     "prompt_number": 16
    },
    {
     "cell_type": "code",
     "collapsed": false,
     "input": [
      "print A\n",
      "np.std(A, axis=0)"
     ],
     "language": "python",
     "metadata": {},
     "outputs": [
      {
       "output_type": "stream",
       "stream": "stdout",
       "text": [
        "[[ 0  1  2]\n",
        " [ 3  4  5]\n",
        " [ 6  7  8]\n",
        " [ 9 10 11]]\n"
       ]
      },
      {
       "metadata": {},
       "output_type": "pyout",
       "prompt_number": 17,
       "text": [
        "array([ 3.35410197,  3.35410197,  3.35410197])"
       ]
      }
     ],
     "prompt_number": 17
    },
    {
     "cell_type": "code",
     "collapsed": false,
     "input": [
      "z = np.array([2,0,3,1])\n",
      "print np.argmax(z)\n",
      "print np.argsort(z)\n",
      "z[np.argsort(z)]"
     ],
     "language": "python",
     "metadata": {},
     "outputs": [
      {
       "output_type": "stream",
       "stream": "stdout",
       "text": [
        "2\n",
        "[1 3 0 2]\n"
       ]
      },
      {
       "metadata": {},
       "output_type": "pyout",
       "prompt_number": 18,
       "text": [
        "array([0, 1, 2, 3])"
       ]
      }
     ],
     "prompt_number": 18
    },
    {
     "cell_type": "code",
     "collapsed": false,
     "input": [
      "np.dot((A - 7).T, A)\n",
      "A.copy()\n",
      "A.std()"
     ],
     "language": "python",
     "metadata": {},
     "outputs": [
      {
       "metadata": {},
       "output_type": "pyout",
       "prompt_number": 19,
       "text": [
        "3.4520525295346629"
       ]
      }
     ],
     "prompt_number": 19
    },
    {
     "cell_type": "code",
     "collapsed": false,
     "input": [
      "from utils.arrays import zNormalizeRows, zNormalize"
     ],
     "language": "python",
     "metadata": {},
     "outputs": [],
     "prompt_number": 20
    },
    {
     "cell_type": "code",
     "collapsed": false,
     "input": [
      "C = A[::-1]\n",
      "b = np.array([2,4,3])\n",
      "b = zNormalize(b)\n",
      "\n",
      "M = np.random.randn(*A.shape)\n",
      "M = zNormalizeRows(M)\n",
      "\n",
      "# woot. Successfully getting distances from dot products\n",
      "d1 = np.sum((M - b)**2, axis=1)\n",
      "print d1\n",
      "dotProd = np.dot(M, b)\n",
      "m = len(b)\n",
      "d2 = 2*(m - dotProd)\n",
      "print d2\n",
      "print d1 - d2\n",
      "# assert(np.array_equal(d1, d2)) # false, although max diff is < 1e-15"
     ],
     "language": "python",
     "metadata": {},
     "outputs": [
      {
       "output_type": "stream",
       "stream": "stdout",
       "text": [
        "[ 4.71271309  7.73474604  0.16943713  3.76792516]\n",
        "[ 4.71271309  7.73474604  0.16943713  3.76792516]"
       ]
      },
      {
       "output_type": "stream",
       "stream": "stdout",
       "text": [
        "\n",
        "[  0.00000000e+00   8.88178420e-16  -3.05311332e-16   4.44089210e-16]\n"
       ]
      }
     ],
     "prompt_number": 21
    },
    {
     "cell_type": "code",
     "collapsed": false,
     "input": [
      "a = np.array([2,4,3])\n",
      "np.r_[0, np.cumsum(a)]"
     ],
     "language": "python",
     "metadata": {},
     "outputs": [
      {
       "metadata": {},
       "output_type": "pyout",
       "prompt_number": 22,
       "text": [
        "array([0, 2, 6, 9])"
       ]
      }
     ],
     "prompt_number": 22
    },
    {
     "cell_type": "code",
     "collapsed": false,
     "input": [
      "np.prod(a)"
     ],
     "language": "python",
     "metadata": {},
     "outputs": [
      {
       "metadata": {},
       "output_type": "pyout",
       "prompt_number": 23,
       "text": [
        "24"
       ]
      }
     ],
     "prompt_number": 23
    },
    {
     "cell_type": "code",
     "collapsed": false,
     "input": [
      "for i in range(4):\n",
      "    print i\n",
      "    for j in range(3):\n",
      "        print i,j\n",
      "        if j > 1:\n",
      "            break\n"
     ],
     "language": "python",
     "metadata": {},
     "outputs": [
      {
       "output_type": "stream",
       "stream": "stdout",
       "text": [
        "0\n",
        "0 0\n",
        "0 1\n",
        "0 2\n",
        "1\n",
        "1 0\n",
        "1 1\n",
        "1 2\n",
        "2\n",
        "2 0\n",
        "2 1\n",
        "2 2\n",
        "3\n",
        "3 0\n",
        "3 1\n",
        "3 2\n"
       ]
      }
     ],
     "prompt_number": 23
    },
    {
     "cell_type": "code",
     "collapsed": false,
     "input": [
      "print A\n",
      "print C\n",
      "print np.abs(C[1] - A[1])"
     ],
     "language": "python",
     "metadata": {},
     "outputs": [
      {
       "output_type": "stream",
       "stream": "stdout",
       "text": [
        "[[ 0  1  2]\n",
        " [ 3  4  5]\n",
        " [ 6  7  8]\n",
        " [ 9 10 11]]\n",
        "[[ 9 10 11]\n",
        " [ 6  7  8]\n",
        " [ 3  4  5]\n",
        " [ 0  1  2]]\n",
        "[3 3 3]\n"
       ]
      }
     ],
     "prompt_number": 24
    },
    {
     "cell_type": "code",
     "collapsed": false,
     "input": [
      "D = A*C*C\n",
      "print D\n",
      "highestStdColIdx = np.argmax(np.std(D, axis=0))\n",
      "print highestStdColIdx\n",
      "sortIdxs = np.argsort(D[:,highestStdColIdx])\n",
      "print sortIdxs\n",
      "print D[sortIdxs]"
     ],
     "language": "python",
     "metadata": {},
     "outputs": [
      {
       "output_type": "stream",
       "stream": "stdout",
       "text": [
        "[[  0 100 242]\n",
        " [108 196 320]\n",
        " [ 54 112 200]\n",
        " [  0  10  44]]\n",
        "2\n",
        "[3 2 0 1]"
       ]
      },
      {
       "output_type": "stream",
       "stream": "stdout",
       "text": [
        "\n",
        "[[  0  10  44]\n",
        " [ 54 112 200]\n",
        " [  0 100 242]\n",
        " [108 196 320]]\n"
       ]
      }
     ],
     "prompt_number": 25
    },
    {
     "cell_type": "code",
     "collapsed": false,
     "input": [
      "A2 = 2. / A\n",
      "print A2\n",
      "print np.isinf(A2)\n",
      "print np.where(np.isinf(A2))[0]"
     ],
     "language": "python",
     "metadata": {},
     "outputs": [
      {
       "output_type": "stream",
       "stream": "stdout",
       "text": [
        "[[        inf  2.          1.        ]\n",
        " [ 0.66666667  0.5         0.4       ]\n",
        " [ 0.33333333  0.28571429  0.25      ]\n",
        " [ 0.22222222  0.2         0.18181818]]\n",
        "[[ True False False]\n",
        " [False False False]\n",
        " [False False False]\n",
        " [False False False]]\n",
        "[0]\n"
       ]
      }
     ],
     "prompt_number": 26
    },
    {
     "cell_type": "code",
     "collapsed": false,
     "input": [
      "A.flatten().reshape((-1,4))"
     ],
     "language": "python",
     "metadata": {},
     "outputs": [
      {
       "metadata": {},
       "output_type": "pyout",
       "prompt_number": 27,
       "text": [
        "array([[ 0,  1,  2,  3],\n",
        "       [ 4,  5,  6,  7],\n",
        "       [ 8,  9, 10, 11]])"
       ]
      }
     ],
     "prompt_number": 27
    },
    {
     "cell_type": "code",
     "collapsed": false,
     "input": [
      "x[x < 5] = 3\n",
      "x"
     ],
     "language": "python",
     "metadata": {},
     "outputs": [
      {
       "metadata": {},
       "output_type": "pyout",
       "prompt_number": 28,
       "text": [
        "array([11, 10,  9,  8,  7,  6,  5,  3,  3,  3,  3,  3])"
       ]
      }
     ],
     "prompt_number": 28
    },
    {
     "cell_type": "code",
     "collapsed": false,
     "input": [
      "np.c_[x, x, x]"
     ],
     "language": "python",
     "metadata": {},
     "outputs": [
      {
       "metadata": {},
       "output_type": "pyout",
       "prompt_number": 29,
       "text": [
        "array([[11, 11, 11],\n",
        "       [10, 10, 10],\n",
        "       [ 9,  9,  9],\n",
        "       [ 8,  8,  8],\n",
        "       [ 7,  7,  7],\n",
        "       [ 6,  6,  6],\n",
        "       [ 5,  5,  5],\n",
        "       [ 3,  3,  3],\n",
        "       [ 3,  3,  3],\n",
        "       [ 3,  3,  3],\n",
        "       [ 3,  3,  3],\n",
        "       [ 3,  3,  3]])"
       ]
      }
     ],
     "prompt_number": 29
    },
    {
     "cell_type": "code",
     "collapsed": false,
     "input": [
      "range(3, 10, 2)"
     ],
     "language": "python",
     "metadata": {},
     "outputs": [
      {
       "metadata": {},
       "output_type": "pyout",
       "prompt_number": 30,
       "text": [
        "[3, 5, 7, 9]"
       ]
      }
     ],
     "prompt_number": 30
    },
    {
     "cell_type": "code",
     "collapsed": false,
     "input": [
      "msg = \"t\" if [] else \"f\"\n",
      "print msg"
     ],
     "language": "python",
     "metadata": {},
     "outputs": [
      {
       "output_type": "stream",
       "stream": "stdout",
       "text": [
        "f\n"
       ]
      }
     ],
     "prompt_number": 31
    },
    {
     "cell_type": "code",
     "collapsed": false,
     "input": [
      "# will the original array get modified? Answer: no\n",
      "A \n",
      "x = A[0]\n",
      "x = (x - np.mean(x)) / np.std(x)\n",
      "print x\n",
      "print A"
     ],
     "language": "python",
     "metadata": {},
     "outputs": [
      {
       "output_type": "stream",
       "stream": "stdout",
       "text": [
        "[-1.22474487  0.          1.22474487]\n",
        "[[ 0  1  2]\n",
        " [ 3  4  5]\n",
        " [ 6  7  8]\n",
        " [ 9 10 11]]\n"
       ]
      }
     ],
     "prompt_number": 32
    },
    {
     "cell_type": "code",
     "collapsed": false,
     "input": [
      "for el in {1,3,4}:\n",
      "    print el\n",
      "    "
     ],
     "language": "python",
     "metadata": {},
     "outputs": [
      {
       "output_type": "stream",
       "stream": "stdout",
       "text": [
        "1\n",
        "3\n",
        "4\n"
       ]
      }
     ],
     "prompt_number": 33
    },
    {
     "cell_type": "code",
     "collapsed": false,
     "input": [
      "s = {1,3,2}\n",
      "print A[list(s)]"
     ],
     "language": "python",
     "metadata": {},
     "outputs": [
      {
       "output_type": "stream",
       "stream": "stdout",
       "text": [
        "[[ 3  4  5]\n",
        " [ 6  7  8]\n",
        " [ 9 10 11]]\n"
       ]
      }
     ],
     "prompt_number": 34
    },
    {
     "cell_type": "code",
     "collapsed": false,
     "input": [
      "print A\n",
      "print A.T.tolist()"
     ],
     "language": "python",
     "metadata": {},
     "outputs": [
      {
       "output_type": "stream",
       "stream": "stdout",
       "text": [
        "[[ 0  1  2]\n",
        " [ 3  4  5]\n",
        " [ 6  7  8]\n",
        " [ 9 10 11]]\n",
        "[[0, 3, 6, 9], [1, 4, 7, 10], [2, 5, 8, 11]]\n"
       ]
      }
     ],
     "prompt_number": 35
    },
    {
     "cell_type": "code",
     "collapsed": false,
     "input": [
      "l = [[1,2,3],[4,5,6], [7], [8,9]]\n",
      "import itertools\n",
      "print list(itertools.chain.from_iterable(l))"
     ],
     "language": "python",
     "metadata": {},
     "outputs": [
      {
       "output_type": "stream",
       "stream": "stdout",
       "text": [
        "[1, 2, 3, 4, 5, 6, 7, 8, 9]\n"
       ]
      }
     ],
     "prompt_number": 36
    },
    {
     "cell_type": "code",
     "collapsed": false,
     "input": [
      "print np.hsplit(A, A.shape[1])"
     ],
     "language": "python",
     "metadata": {},
     "outputs": [
      {
       "output_type": "stream",
       "stream": "stdout",
       "text": [
        "[array([[0],\n",
        "       [3],\n",
        "       [6],\n",
        "       [9]]), array([[ 1],\n",
        "       [ 4],\n",
        "       [ 7],\n",
        "       [10]]), array([[ 2],\n",
        "       [ 5],\n",
        "       [ 8],\n",
        "       [11]])]\n"
       ]
      }
     ],
     "prompt_number": 37
    },
    {
     "cell_type": "code",
     "collapsed": false,
     "input": [
      "print x\n",
      "print isinstance(x, (list, tuple))"
     ],
     "language": "python",
     "metadata": {},
     "outputs": [
      {
       "output_type": "stream",
       "stream": "stdout",
       "text": [
        "[-1.22474487  0.          1.22474487]\n",
        "False\n"
       ]
      }
     ],
     "prompt_number": 38
    },
    {
     "cell_type": "code",
     "collapsed": false,
     "input": [
      "# D = np.dstack((A,A))\n",
      "D = np.empty((4,3,2))\n",
      "D[:,:,0] = A\n",
      "D[:,:,1] = A # doing same thing as dstack; apparently tensors just printed weird\n",
      "print D.shape\n",
      "print D\n",
      "# so how can I stack all the 3rd dim stuff end to end vertically in 2 dims?\n",
      "np.vstack((A, A)) # ie, i want this\n",
      "# D.reshape((-1, D.shape[1])) # nope\n",
      "# np.vstack(D[:,:].tolist()) # nope\n",
      "D[:,:].tolist()"
     ],
     "language": "python",
     "metadata": {},
     "outputs": [
      {
       "output_type": "stream",
       "stream": "stdout",
       "text": [
        "(4, 3, 2)\n",
        "[[[  0.   0.]\n",
        "  [  1.   1.]\n",
        "  [  2.   2.]]\n",
        "\n",
        " [[  3.   3.]\n",
        "  [  4.   4.]\n",
        "  [  5.   5.]]\n",
        "\n",
        " [[  6.   6.]\n",
        "  [  7.   7.]\n",
        "  [  8.   8.]]\n",
        "\n",
        " [[  9.   9.]\n",
        "  [ 10.  10.]\n",
        "  [ 11.  11.]]]\n"
       ]
      },
      {
       "metadata": {},
       "output_type": "pyout",
       "prompt_number": 39,
       "text": [
        "[[[0.0, 0.0], [1.0, 1.0], [2.0, 2.0]],\n",
        " [[3.0, 3.0], [4.0, 4.0], [5.0, 5.0]],\n",
        " [[6.0, 6.0], [7.0, 7.0], [8.0, 8.0]],\n",
        " [[9.0, 9.0], [10.0, 10.0], [11.0, 11.0]]]"
       ]
      }
     ],
     "prompt_number": 39
    },
    {
     "cell_type": "code",
     "collapsed": false,
     "input": [
      "D = np.empty((2,4,3))\n",
      "D[0,:,:] = A\n",
      "D[1,:,:] = A\n",
      "print D # ah, so this is actually what I wanted; makes sense cuz later idxs together in memory\n",
      "print \"vertStacked:\"\n",
      "print D.reshape((-1, D.shape[2])) # ah, here we go\n",
      "print \"horzStacked:\"\n",
      "print D.reshape((D.shape[1], -1)) # nope, not doing what I want"
     ],
     "language": "python",
     "metadata": {},
     "outputs": [
      {
       "output_type": "stream",
       "stream": "stdout",
       "text": [
        "[[[  0.   1.   2.]\n",
        "  [  3.   4.   5.]\n",
        "  [  6.   7.   8.]\n",
        "  [  9.  10.  11.]]\n",
        "\n",
        " [[  0.   1.   2.]\n",
        "  [  3.   4.   5.]\n",
        "  [  6.   7.   8.]\n",
        "  [  9.  10.  11.]]]\n",
        "vertStacked:\n",
        "[[  0.   1.   2.]\n",
        " [  3.   4.   5.]\n",
        " [  6.   7.   8.]\n",
        " [  9.  10.  11.]\n",
        " [  0.   1.   2.]\n",
        " [  3.   4.   5.]\n",
        " [  6.   7.   8.]\n",
        " [  9.  10.  11.]]\n",
        "horzStacked:"
       ]
      },
      {
       "output_type": "stream",
       "stream": "stdout",
       "text": [
        "\n",
        "[[  0.   1.   2.   3.   4.   5.]\n",
        " [  6.   7.   8.   9.  10.  11.]\n",
        " [  0.   1.   2.   3.   4.   5.]\n",
        " [  6.   7.   8.   9.  10.  11.]]\n"
       ]
      }
     ],
     "prompt_number": 40
    },
    {
     "cell_type": "code",
     "collapsed": false,
     "input": [
      "A[:, 2:2]"
     ],
     "language": "python",
     "metadata": {},
     "outputs": [
      {
       "metadata": {},
       "output_type": "pyout",
       "prompt_number": 41,
       "text": [
        "array([], shape=(4, 0), dtype=int64)"
       ]
      }
     ],
     "prompt_number": 41
    },
    {
     "cell_type": "code",
     "collapsed": false,
     "input": [
      "print A[:,::-1]\n",
      "print np.sort(A[:,::-1], axis=1)"
     ],
     "language": "python",
     "metadata": {},
     "outputs": [
      {
       "output_type": "stream",
       "stream": "stdout",
       "text": [
        "[[ 2  1  0]\n",
        " [ 5  4  3]\n",
        " [ 8  7  6]\n",
        " [11 10  9]]\n",
        "[[ 0  1  2]\n",
        " [ 3  4  5]\n",
        " [ 6  7  8]\n",
        " [ 9 10 11]]\n"
       ]
      }
     ],
     "prompt_number": 42
    },
    {
     "cell_type": "code",
     "collapsed": false,
     "input": [
      "(A.T / np.linalg.norm(A.T, axis=0)).T"
     ],
     "language": "python",
     "metadata": {},
     "outputs": [
      {
       "metadata": {},
       "output_type": "pyout",
       "prompt_number": 43,
       "text": [
        "array([[ 0.        ,  0.4472136 ,  0.89442719],\n",
        "       [ 0.42426407,  0.56568542,  0.70710678],\n",
        "       [ 0.49153915,  0.57346234,  0.65538554],\n",
        "       [ 0.5178918 ,  0.57543534,  0.63297887]])"
       ]
      }
     ],
     "prompt_number": 43
    },
    {
     "cell_type": "code",
     "collapsed": false,
     "input": [
      "x = np.arange(10)[::-1]\n",
      "x\n",
      "print np.argsort(x)[:5]"
     ],
     "language": "python",
     "metadata": {},
     "outputs": [
      {
       "output_type": "stream",
       "stream": "stdout",
       "text": [
        "[9 8 7 6 5]\n"
       ]
      }
     ],
     "prompt_number": 44
    },
    {
     "cell_type": "code",
     "collapsed": false,
     "input": [
      "%matplotlib inline\n",
      "fig, ax = plt.subplots()\n",
      "ax.imshow(np.random.random((10,10)))\n",
      "ax.autoscale(False)\n",
      "ax.plot(range(11))\n",
      "plt.show()"
     ],
     "language": "python",
     "metadata": {},
     "outputs": [
      {
       "metadata": {},
       "output_type": "display_data",
       "png": "[encoded data removed]",
       "text": [
        "<matplotlib.figure.Figure at 0x114659490>"
       ]
      }
     ],
     "prompt_number": 45
    },
    {
     "cell_type": "code",
     "collapsed": false,
     "input": [
      "def plotVertLine(x, ymin, ymax, ax=None):\n",
      "\tif not ax:\n",
      "\t\tax = plt\n",
      "\tax.plot([x, x], [ymin, ymax], color='k',\n",
      "\t\tlinestyle='--', linewidth=2)\n"
     ],
     "language": "python",
     "metadata": {},
     "outputs": [],
     "prompt_number": 46
    },
    {
     "cell_type": "code",
     "collapsed": false,
     "input": [
      "fig, ax = plt.subplots()\n",
      "ax.imshow(np.random.random((10,10)))\n",
      "ymin, ymax = ax.get_ylim()\n",
      "plotVertLine(2, ymin, ymax, ax)"
     ],
     "language": "python",
     "metadata": {},
     "outputs": [
      {
       "metadata": {},
       "output_type": "display_data",
       "png": "[encoded data removed]",
       "text": [
        "<matplotlib.figure.Figure at 0x11625b890>"
       ]
      }
     ],
     "prompt_number": 47
    },
    {
     "cell_type": "code",
     "collapsed": false,
     "input": [
      "plt.get_ylim()"
     ],
     "language": "python",
     "metadata": {},
     "outputs": [
      {
       "ename": "AttributeError",
       "evalue": "'module' object has no attribute 'get_ylim'",
       "output_type": "pyerr",
       "traceback": [
        "\u001b[0;31m---------------------------------------------------------------------------\u001b[0m\n\u001b[0;31mAttributeError\u001b[0m                            Traceback (most recent call last)",
        "\u001b[0;32m<ipython-input-48-340f29443503>\u001b[0m in \u001b[0;36m<module>\u001b[0;34m()\u001b[0m\n\u001b[0;32m----> 1\u001b[0;31m \u001b[0mplt\u001b[0m\u001b[0;34m.\u001b[0m\u001b[0mget_ylim\u001b[0m\u001b[0;34m(\u001b[0m\u001b[0;34m)\u001b[0m\u001b[0;34m\u001b[0m\u001b[0m\n\u001b[0m",
        "\u001b[0;31mAttributeError\u001b[0m: 'module' object has no attribute 'get_ylim'"
       ]
      }
     ],
     "prompt_number": 48
    },
    {
     "cell_type": "code",
     "collapsed": false,
     "input": [
      "sums = np.sum(A, axis=1)\n",
      "A / sums.reshape((4,1))"
     ],
     "language": "python",
     "metadata": {},
     "outputs": []
    },
    {
     "cell_type": "code",
     "collapsed": false,
     "input": [
      "a = np.arange(4)\n",
      "b = a[::-1]\n",
      "l = zip(a.tolist(), b.tolist())\n",
      "print l\n",
      "print zip(*l)"
     ],
     "language": "python",
     "metadata": {},
     "outputs": []
    },
    {
     "cell_type": "code",
     "collapsed": false,
     "input": [
      "d = dict(zip(a, b))\n",
      "d\n",
      "print len(d)"
     ],
     "language": "python",
     "metadata": {},
     "outputs": [
      {
       "output_type": "stream",
       "stream": "stdout",
       "text": [
        "3\n"
       ]
      }
     ],
     "prompt_number": 49
    },
    {
     "cell_type": "code",
     "collapsed": false,
     "input": [
      "d.get(5, [])"
     ],
     "language": "python",
     "metadata": {},
     "outputs": [
      {
       "metadata": {},
       "output_type": "pyout",
       "prompt_number": 50,
       "text": [
        "[]"
       ]
      }
     ],
     "prompt_number": 50
    },
    {
     "cell_type": "code",
     "collapsed": false,
     "input": [
      "np.log2(8)"
     ],
     "language": "python",
     "metadata": {},
     "outputs": [
      {
       "metadata": {},
       "output_type": "pyout",
       "prompt_number": 51,
       "text": [
        "3.0"
       ]
      }
     ],
     "prompt_number": 51
    },
    {
     "cell_type": "code",
     "collapsed": false,
     "input": [
      "np.vstack((A, A))"
     ],
     "language": "python",
     "metadata": {},
     "outputs": [
      {
       "metadata": {},
       "output_type": "pyout",
       "prompt_number": 52,
       "text": [
        "array([[ 0,  1,  2],\n",
        "       [ 3,  4,  5],\n",
        "       [ 6,  7,  8],\n",
        "       [ 9, 10, 11],\n",
        "       [ 0,  1,  2],\n",
        "       [ 3,  4,  5],\n",
        "       [ 6,  7,  8],\n",
        "       [ 9, 10, 11]])"
       ]
      }
     ],
     "prompt_number": 52
    },
    {
     "cell_type": "code",
     "collapsed": false,
     "input": [
      "print A.shape\n",
      "print A.T.shape"
     ],
     "language": "python",
     "metadata": {},
     "outputs": [
      {
       "output_type": "stream",
       "stream": "stdout",
       "text": [
        "(4, 3)\n",
        "(3, 4)\n"
       ]
      }
     ],
     "prompt_number": 53
    },
    {
     "cell_type": "code",
     "collapsed": false,
     "input": [
      "w = np.zeros(3) + 2\n",
      "A * w"
     ],
     "language": "python",
     "metadata": {},
     "outputs": [
      {
       "metadata": {},
       "output_type": "pyout",
       "prompt_number": 54,
       "text": [
        "array([[  0.,   2.,   4.],\n",
        "       [  6.,   8.,  10.],\n",
        "       [ 12.,  14.,  16.],\n",
        "       [ 18.,  20.,  22.]])"
       ]
      }
     ],
     "prompt_number": 54
    },
    {
     "cell_type": "code",
     "collapsed": false,
     "input": [
      "z = np.zeros(4) + 3\n",
      "# A * z # breaks\n",
      "A * z.reshape((-1,1)) # multiplies A[i] by z[i]"
     ],
     "language": "python",
     "metadata": {},
     "outputs": [
      {
       "metadata": {},
       "output_type": "pyout",
       "prompt_number": 55,
       "text": [
        "array([[  0.,   3.,   6.],\n",
        "       [  9.,  12.,  15.],\n",
        "       [ 18.,  21.,  24.],\n",
        "       [ 27.,  30.,  33.]])"
       ]
      }
     ],
     "prompt_number": 55
    },
    {
     "cell_type": "code",
     "collapsed": false,
     "input": [
      "np.sum(A, axis=0)"
     ],
     "language": "python",
     "metadata": {},
     "outputs": [
      {
       "metadata": {},
       "output_type": "pyout",
       "prompt_number": 56,
       "text": [
        "array([18, 22, 26])"
       ]
      }
     ],
     "prompt_number": 56
    },
    {
     "cell_type": "code",
     "collapsed": false,
     "input": [
      "df = pd.DataFrame(whateverFile)"
     ],
     "language": "python",
     "metadata": {},
     "outputs": [
      {
       "ename": "NameError",
       "evalue": "name 'whateverFile' is not defined",
       "output_type": "pyerr",
       "traceback": [
        "\u001b[0;31m---------------------------------------------------------------------------\u001b[0m\n\u001b[0;31mNameError\u001b[0m                                 Traceback (most recent call last)",
        "\u001b[0;32m<ipython-input-57-274d2fc101f3>\u001b[0m in \u001b[0;36m<module>\u001b[0;34m()\u001b[0m\n\u001b[0;32m----> 1\u001b[0;31m \u001b[0mdf\u001b[0m \u001b[0;34m=\u001b[0m \u001b[0mpd\u001b[0m\u001b[0;34m.\u001b[0m\u001b[0mDataFrame\u001b[0m\u001b[0;34m(\u001b[0m\u001b[0mwhateverFile\u001b[0m\u001b[0;34m)\u001b[0m\u001b[0;34m\u001b[0m\u001b[0m\n\u001b[0m",
        "\u001b[0;31mNameError\u001b[0m: name 'whateverFile' is not defined"
       ]
      }
     ],
     "prompt_number": 57
    },
    {
     "cell_type": "code",
     "collapsed": false,
     "input": [
      "import numpy as np\n",
      "import matplotlib.pyplot as plt\n",
      "\n",
      "# enable imports; must be run from notebook's directory\n",
      "import sys\n",
      "sys.path.append('../python') # get access to all our code\n",
      "sys.path.append('../figs') # get access to all our figs\n",
      "sys.path.append('..') # stuff doing relative imports needs to be imported relative to here\n",
      "\n",
      "\n",
      "%matplotlib inline\n",
      "\n",
      "from utils import arrays as ar\n",
      "from datasets import synthetic as synth "
     ],
     "language": "python",
     "metadata": {},
     "outputs": [],
     "prompt_number": 58
    },
    {
     "cell_type": "code",
     "collapsed": false,
     "input": [
      "seq = synth.multiShapesMotif(noise=.02)\n",
      "seq = seq[0]\n",
      "# plt.plot(seq)\n",
      "# plt.title('Synthetic Time Series of 3 signals')\n",
      "# plt.xlabel('Sample index')\n",
      "# plt.savefig('../communicate/shapes.pdf')\n",
      "\n",
      "seq = synth.trianglesMotif(noise=.04)[0]\n",
      "plt.plot(seq, linewidth=2)\n",
      "plt.title('Synthetic 1D Time Series')\n",
      "plt.xlabel('Sample Index')\n",
      "plt.savefig('../communicate/triangles.pdf')\n"
     ],
     "language": "python",
     "metadata": {},
     "outputs": [
      {
       "metadata": {},
       "output_type": "display_data",
       "png": "[encoded data removed]",
       "text": [
        "<matplotlib.figure.Figure at 0x11463dcd0>"
       ]
      }
     ],
     "prompt_number": 59
    },
    {
     "cell_type": "code",
     "collapsed": false,
     "input": [
      "np.random.rand(10)"
     ],
     "language": "python",
     "metadata": {},
     "outputs": [
      {
       "metadata": {},
       "output_type": "pyout",
       "prompt_number": 60,
       "text": [
        "array([ 0.14953991,  0.14231937,  0.98014101,  0.87971351,  0.86175189,\n",
        "        0.17797759,  0.03708135,  0.7435611 ,  0.53322297,  0.42921481])"
       ]
      }
     ],
     "prompt_number": 60
    },
    {
     "cell_type": "code",
     "collapsed": false,
     "input": [
      "zip(*[(1,2),(3,4),(5,6)])"
     ],
     "language": "python",
     "metadata": {},
     "outputs": [
      {
       "metadata": {},
       "output_type": "pyout",
       "prompt_number": 61,
       "text": [
        "[(1, 3, 5), (2, 4, 6)]"
       ]
      }
     ],
     "prompt_number": 61
    },
    {
     "cell_type": "code",
     "collapsed": false,
     "input": [
      "x[np.asarray((1,4,7))]"
     ],
     "language": "python",
     "metadata": {},
     "outputs": [
      {
       "metadata": {},
       "output_type": "pyout",
       "prompt_number": 62,
       "text": [
        "array([8, 5, 2])"
       ]
      }
     ],
     "prompt_number": 62
    },
    {
     "cell_type": "code",
     "collapsed": false,
     "input": [
      "x.tolist()"
     ],
     "language": "python",
     "metadata": {},
     "outputs": [
      {
       "metadata": {},
       "output_type": "pyout",
       "prompt_number": 63,
       "text": [
        "[9, 8, 7, 6, 5, 4, 3, 2, 1, 0]"
       ]
      }
     ],
     "prompt_number": 63
    },
    {
     "cell_type": "code",
     "collapsed": false,
     "input": [
      "1 <= 3 <= 5 < 7"
     ],
     "language": "python",
     "metadata": {},
     "outputs": [
      {
       "metadata": {},
       "output_type": "pyout",
       "prompt_number": 64,
       "text": [
        "True"
       ]
      }
     ],
     "prompt_number": 64
    },
    {
     "cell_type": "code",
     "collapsed": false,
     "input": [
      "None or 3"
     ],
     "language": "python",
     "metadata": {},
     "outputs": [
      {
       "metadata": {},
       "output_type": "pyout",
       "prompt_number": 65,
       "text": [
        "3"
       ]
      }
     ],
     "prompt_number": 65
    },
    {
     "cell_type": "code",
     "collapsed": false,
     "input": [
      "# so condition is first term when using and-or trick\n",
      "print False and 1 or 3\n",
      "print True and 1 or 3"
     ],
     "language": "python",
     "metadata": {},
     "outputs": [
      {
       "output_type": "stream",
       "stream": "stdout",
       "text": [
        "3\n",
        "1\n"
       ]
      }
     ],
     "prompt_number": 66
    },
    {
     "cell_type": "code",
     "collapsed": false,
     "input": [
      "l = [[1,2,3],[4,5,6], [7], [8,9]]\n",
      "del l[2]\n",
      "l"
     ],
     "language": "python",
     "metadata": {},
     "outputs": [
      {
       "metadata": {},
       "output_type": "pyout",
       "prompt_number": 67,
       "text": [
        "[[1, 2, 3], [4, 5, 6], [8, 9]]"
       ]
      }
     ],
     "prompt_number": 67
    },
    {
     "cell_type": "code",
     "collapsed": false,
     "input": [
      "from scipy import signal\n",
      "x2 = np.array([2,1,5])\n",
      "x2 = np.r_[x2, -np.inf]\n",
      "print x2\n",
      "print signal.argrelextrema(x2, np.greater, mode='wrap')"
     ],
     "language": "python",
     "metadata": {},
     "outputs": [
      {
       "output_type": "stream",
       "stream": "stdout",
       "text": [
        "[  2.   1.   5. -inf]\n",
        "(array([0, 2]),)\n"
       ]
      }
     ],
     "prompt_number": 68
    },
    {
     "cell_type": "code",
     "collapsed": false,
     "input": [
      "np.empty(0)"
     ],
     "language": "python",
     "metadata": {},
     "outputs": [
      {
       "metadata": {},
       "output_type": "pyout",
       "prompt_number": 69,
       "text": [
        "array([], dtype=float64)"
       ]
      }
     ],
     "prompt_number": 69
    },
    {
     "cell_type": "code",
     "collapsed": false,
     "input": [
      "x3 = x - 5\n",
      "x4 = (x-5)[::-1]\n",
      "print x3\n",
      "print x4\n",
      "print np.minimum(x3, x4)"
     ],
     "language": "python",
     "metadata": {},
     "outputs": [
      {
       "output_type": "stream",
       "stream": "stdout",
       "text": [
        "[ 4  3  2  1  0 -1 -2 -3 -4 -5]\n",
        "[-5 -4 -3 -2 -1  0  1  2  3  4]\n",
        "[-5 -4 -3 -2 -1 -1 -2 -3 -4 -5]\n"
       ]
      }
     ],
     "prompt_number": 70
    },
    {
     "cell_type": "code",
     "collapsed": false,
     "input": [
      "from scipy.ndimage import filters as filt\n",
      "x2 = np.array([5,4,3,2,1,4,1,2,3,2,1,5])\n",
      "print x2\n",
      "print filt.maximum_filter1d(x2, size=3)\n",
      "print\n",
      "print 6 - x2\n",
      "print filt.minimum_filter(6 - x2, size=3)\n",
      "print\n",
      "print 4 - x2\n",
      "print filt.minimum_filter(4 - x2, size=3)\n",
      "\n",
      "# so this does exactly what I want, except that it centers the filter\n",
      "# over each point, while I need to align the 1st position with the point\n",
      "# to handle subseq overlaps...\n",
      "    # -pretty confident that these aren't equivalent via translations \n",
      "    # or something cuz in the latter case, dist should never be compared\n",
      "    # to points before it\n",
      "    # -is this even what the problem reduces to? Ultimately, we want all\n",
      "    # non-overlapping relative minima subseqs, and this won't address case\n",
      "    # where something is the lowest nearby once the filter moves past an\n",
      "    # even lower one, but still overlaps with the lowest\n",
      "        # -I think what we really want is to find the relative minima, and\n",
      "        # any time one of them has a dist < thresh, we report that one and\n",
      "        # don't report anything else until overlap is over\n",
      "            # -this is pretty simple, and mirrors online recognition case\n",
      "            # -don't think we actually need a min filter here\n",
      "\n"
     ],
     "language": "python",
     "metadata": {},
     "outputs": [
      {
       "output_type": "stream",
       "stream": "stdout",
       "text": [
        "[5 4 3 2 1 4 1 2 3 2 1 5]\n",
        "[5 5 4 3 4 4 4 3 3 3 5 5]\n",
        "\n",
        "[1 2 3 4 5 2 5 4 3 4 5 1]"
       ]
      },
      {
       "output_type": "stream",
       "stream": "stdout",
       "text": [
        "\n",
        "[1 1 2 3 2 2 2 3 3 3 1 1]\n",
        "\n",
        "[-1  0  1  2  3  0  3  2  1  2  3 -1]"
       ]
      },
      {
       "output_type": "stream",
       "stream": "stdout",
       "text": [
        "\n",
        "[-1 -1  0  1  0  0  0  1  1  1 -1 -1]\n"
       ]
      }
     ],
     "prompt_number": 71
    },
    {
     "cell_type": "code",
     "collapsed": false,
     "input": [
      "print l\n",
      "a, b, (c, d) = l\n",
      "print a, b, c, d"
     ],
     "language": "python",
     "metadata": {},
     "outputs": [
      {
       "output_type": "stream",
       "stream": "stdout",
       "text": [
        "[[1, 2, 3], [4, 5, 6], [8, 9]]\n",
        "[1, 2, 3] [4, 5, 6] 8 9\n"
       ]
      }
     ],
     "prompt_number": 72
    },
    {
     "cell_type": "code",
     "collapsed": false,
     "input": [
      "v = np.arange(2)\n",
      "s, e = v\n",
      "print s, e"
     ],
     "language": "python",
     "metadata": {},
     "outputs": [
      {
       "output_type": "stream",
       "stream": "stdout",
       "text": [
        "0 1\n"
       ]
      }
     ],
     "prompt_number": 73
    },
    {
     "cell_type": "code",
     "collapsed": false,
     "input": [
      "\"foo{}\".format(3)"
     ],
     "language": "python",
     "metadata": {},
     "outputs": [
      {
       "metadata": {},
       "output_type": "pyout",
       "prompt_number": 74,
       "text": [
        "'foo3'"
       ]
      }
     ],
     "prompt_number": 74
    },
    {
     "cell_type": "code",
     "collapsed": false,
     "input": [
      "s = [1, 2]\n",
      "s.append(3)\n",
      "print s"
     ],
     "language": "python",
     "metadata": {},
     "outputs": [
      {
       "output_type": "stream",
       "stream": "stdout",
       "text": [
        "[1, 2, 3]\n"
       ]
      }
     ],
     "prompt_number": 75
    },
    {
     "cell_type": "code",
     "collapsed": false,
     "input": [
      "# sorted() makes a copy, right? Edit: yes.\n",
      "s2 = sorted(s)\n",
      "del s2[1]\n",
      "print s2\n",
      "print s"
     ],
     "language": "python",
     "metadata": {},
     "outputs": [
      {
       "output_type": "stream",
       "stream": "stdout",
       "text": [
        "[1, 3]\n",
        "[1, 2, 3]\n"
       ]
      }
     ],
     "prompt_number": 76
    },
    {
     "cell_type": "code",
     "collapsed": false,
     "input": [
      "l2 = list(reversed(range(5)))\n",
      "print l2\n",
      "print np.sort(l2)"
     ],
     "language": "python",
     "metadata": {},
     "outputs": [
      {
       "output_type": "stream",
       "stream": "stdout",
       "text": [
        "[4, 3, 2, 1, 0]\n",
        "[0 1 2 3 4]\n"
       ]
      }
     ],
     "prompt_number": 77
    },
    {
     "cell_type": "code",
     "collapsed": false,
     "input": [
      "A\n",
      "np.std(A, axis=1)"
     ],
     "language": "python",
     "metadata": {},
     "outputs": [
      {
       "metadata": {},
       "output_type": "pyout",
       "prompt_number": 78,
       "text": [
        "array([ 0.81649658,  0.81649658,  0.81649658,  0.81649658])"
       ]
      }
     ],
     "prompt_number": 78
    },
    {
     "cell_type": "code",
     "collapsed": false,
     "input": [
      "A.T.ravel()\n",
      "A.reshape(6, -1)\n",
      "A"
     ],
     "language": "python",
     "metadata": {},
     "outputs": [
      {
       "metadata": {},
       "output_type": "pyout",
       "prompt_number": 79,
       "text": [
        "array([[ 0,  1,  2],\n",
        "       [ 3,  4,  5],\n",
        "       [ 6,  7,  8],\n",
        "       [ 9, 10, 11]])"
       ]
      }
     ],
     "prompt_number": 79
    },
    {
     "cell_type": "code",
     "collapsed": false,
     "input": [
      "F = np.fft.fft(A, axis=1)\n",
      "f = np.fft.ifft(F, axis=1)\n",
      "\n",
      "print A\n",
      "print f\n",
      "print np.array(f, dtype=np.int)"
     ],
     "language": "python",
     "metadata": {},
     "outputs": [
      {
       "output_type": "stream",
       "stream": "stdout",
       "text": [
        "[[ 0  1  2]\n",
        " [ 3  4  5]\n",
        " [ 6  7  8]\n",
        " [ 9 10 11]]\n",
        "[[  0.+0.j   1.+0.j   2.+0.j]\n",
        " [  3.+0.j   4.+0.j   5.+0.j]\n",
        " [  6.+0.j   7.+0.j   8.+0.j]\n",
        " [  9.+0.j  10.+0.j  11.+0.j]]\n",
        "[[ 0  1  2]\n",
        " [ 3  4  5]\n",
        " [ 6  7  8]\n",
        " [ 9 10 11]]\n"
       ]
      },
      {
       "output_type": "stream",
       "stream": "stderr",
       "text": [
        "-c:6: ComplexWarning: Casting complex values to real discards the imaginary part\n"
       ]
      }
     ],
     "prompt_number": 80
    },
    {
     "cell_type": "code",
     "collapsed": false,
     "input": [
      "x\n",
      "x.shape[0]"
     ],
     "language": "python",
     "metadata": {},
     "outputs": [
      {
       "metadata": {},
       "output_type": "pyout",
       "prompt_number": 81,
       "text": [
        "10"
       ]
      }
     ],
     "prompt_number": 81
    },
    {
     "cell_type": "code",
     "collapsed": false,
     "input": [
      "np.where(x > 3)[0]"
     ],
     "language": "python",
     "metadata": {},
     "outputs": [
      {
       "metadata": {},
       "output_type": "pyout",
       "prompt_number": 82,
       "text": [
        "array([0, 1, 2, 3, 4, 5])"
       ]
      }
     ],
     "prompt_number": 82
    },
    {
     "cell_type": "code",
     "collapsed": false,
     "input": [
      "\"foo\".lower()"
     ],
     "language": "python",
     "metadata": {},
     "outputs": [
      {
       "metadata": {},
       "output_type": "pyout",
       "prompt_number": 83,
       "text": [
        "'foo'"
       ]
      }
     ],
     "prompt_number": 83
    },
    {
     "cell_type": "code",
     "collapsed": false,
     "input": [
      "isinstance({'a': 1}, dict)"
     ],
     "language": "python",
     "metadata": {},
     "outputs": [
      {
       "metadata": {},
       "output_type": "pyout",
       "prompt_number": 84,
       "text": [
        "True"
       ]
      }
     ],
     "prompt_number": 84
    },
    {
     "cell_type": "code",
     "collapsed": false,
     "input": [
      "l + l"
     ],
     "language": "python",
     "metadata": {},
     "outputs": [
      {
       "metadata": {},
       "output_type": "pyout",
       "prompt_number": 85,
       "text": [
        "[[1, 2, 3], [4, 5, 6], [8, 9], [1, 2, 3], [4, 5, 6], [8, 9]]"
       ]
      }
     ],
     "prompt_number": 85
    },
    {
     "cell_type": "code",
     "collapsed": false,
     "input": [
      "d = {'a': 1}\n",
      "d.keys()"
     ],
     "language": "python",
     "metadata": {},
     "outputs": [
      {
       "metadata": {},
       "output_type": "pyout",
       "prompt_number": 86,
       "text": [
        "['a']"
       ]
      }
     ],
     "prompt_number": 86
    },
    {
     "cell_type": "code",
     "collapsed": false,
     "input": [
      "l0 = [('a',2),('b',4)]\n",
      "l1 = [('aa',12),('bb',14)]\n",
      "l2 = [('aaa',22),('ccc',24)]\n",
      "import itertools\n",
      "prod = list(itertools.product(l0, l1, l2))\n",
      "print prod\n",
      "print\n",
      "paramsDicts = map(lambda combo: dict(combo), prod)\n",
      "print paramsDicts"
     ],
     "language": "python",
     "metadata": {},
     "outputs": [
      {
       "output_type": "stream",
       "stream": "stdout",
       "text": [
        "[(('a', 2), ('aa', 12), ('aaa', 22)), (('a', 2), ('aa', 12), ('ccc', 24)), (('a', 2), ('bb', 14), ('aaa', 22)), (('a', 2), ('bb', 14), ('ccc', 24)), (('b', 4), ('aa', 12), ('aaa', 22)), (('b', 4), ('aa', 12), ('ccc', 24)), (('b', 4), ('bb', 14), ('aaa', 22)), (('b', 4), ('bb', 14), ('ccc', 24))]\n",
        "\n",
        "[{'a': 2, 'aa': 12, 'aaa': 22}, {'a': 2, 'aa': 12, 'ccc': 24}, {'a': 2, 'aaa': 22, 'bb': 14}, {'a': 2, 'ccc': 24, 'bb': 14}, {'aa': 12, 'b': 4, 'aaa': 22}, {'aa': 12, 'b': 4, 'ccc': 24}, {'b': 4, 'aaa': 22, 'bb': 14}, {'b': 4, 'ccc': 24, 'bb': 14}]"
       ]
      },
      {
       "output_type": "stream",
       "stream": "stdout",
       "text": [
        "\n"
       ]
      }
     ],
     "prompt_number": 87
    },
    {
     "cell_type": "code",
     "collapsed": false,
     "input": [
      "i = -1\n",
      "for i in range(5):\n",
      "    pass\n",
      "print i # huh...vars in for loop accessible in outer scope, apparently"
     ],
     "language": "python",
     "metadata": {},
     "outputs": [
      {
       "output_type": "stream",
       "stream": "stdout",
       "text": [
        "4\n"
       ]
      }
     ],
     "prompt_number": 88
    },
    {
     "cell_type": "code",
     "collapsed": false,
     "input": [
      "zip(x, x[::-1])"
     ],
     "language": "python",
     "metadata": {},
     "outputs": [
      {
       "metadata": {},
       "output_type": "pyout",
       "prompt_number": 89,
       "text": [
        "[(9, 0),\n",
        " (8, 1),\n",
        " (7, 2),\n",
        " (6, 3),\n",
        " (5, 4),\n",
        " (4, 5),\n",
        " (3, 6),\n",
        " (2, 7),\n",
        " (1, 8),\n",
        " (0, 9)]"
       ]
      }
     ],
     "prompt_number": 89
    },
    {
     "cell_type": "code",
     "collapsed": false,
     "input": [
      "np.arange(.1, .9, .2)"
     ],
     "language": "python",
     "metadata": {},
     "outputs": [
      {
       "metadata": {},
       "output_type": "pyout",
       "prompt_number": 90,
       "text": [
        "array([ 0.1,  0.3,  0.5,  0.7])"
       ]
      }
     ],
     "prompt_number": 90
    },
    {
     "cell_type": "code",
     "collapsed": false,
     "input": [
      "\"foo\".split('_')[-1]"
     ],
     "language": "python",
     "metadata": {},
     "outputs": [
      {
       "metadata": {},
       "output_type": "pyout",
       "prompt_number": 91,
       "text": [
        "'foo'"
       ]
      }
     ],
     "prompt_number": 91
    },
    {
     "cell_type": "code",
     "collapsed": false,
     "input": [
      "int(round(2.9))"
     ],
     "language": "python",
     "metadata": {},
     "outputs": [
      {
       "metadata": {},
       "output_type": "pyout",
       "prompt_number": 92,
       "text": [
        "3"
       ]
      }
     ],
     "prompt_number": 92
    },
    {
     "cell_type": "code",
     "collapsed": false,
     "input": [
      "'foo_bar'.replace('_', ' ')"
     ],
     "language": "python",
     "metadata": {},
     "outputs": [
      {
       "metadata": {},
       "output_type": "pyout",
       "prompt_number": 93,
       "text": [
        "'foo bar'"
       ]
      }
     ],
     "prompt_number": 93
    },
    {
     "cell_type": "code",
     "collapsed": false,
     "input": [
      "l + l"
     ],
     "language": "python",
     "metadata": {},
     "outputs": [
      {
       "metadata": {},
       "output_type": "pyout",
       "prompt_number": 94,
       "text": [
        "[[1, 2, 3], [4, 5, 6], [8, 9], [1, 2, 3], [4, 5, 6], [8, 9]]"
       ]
      }
     ],
     "prompt_number": 94
    },
    {
     "cell_type": "code",
     "collapsed": false,
     "input": [
      "print x\n",
      "print np.r_[x,x]\n",
      "print np.r_[A,A]"
     ],
     "language": "python",
     "metadata": {},
     "outputs": [
      {
       "output_type": "stream",
       "stream": "stdout",
       "text": [
        "[9 8 7 6 5 4 3 2 1 0]\n",
        "[9 8 7 6 5 4 3 2 1 0 9 8 7 6 5 4 3 2 1 0]\n",
        "[[ 0  1  2]\n",
        " [ 3  4  5]\n",
        " [ 6  7  8]\n",
        " [ 9 10 11]\n",
        " [ 0  1  2]\n",
        " [ 3  4  5]\n",
        " [ 6  7  8]\n",
        " [ 9 10 11]]\n"
       ]
      }
     ],
     "prompt_number": 95
    },
    {
     "cell_type": "code",
     "collapsed": false,
     "input": [
      "for row in A.T:\n",
      "    print row\n",
      "print A"
     ],
     "language": "python",
     "metadata": {},
     "outputs": [
      {
       "output_type": "stream",
       "stream": "stdout",
       "text": [
        "[0 3 6 9]\n",
        "[ 1  4  7 10]\n",
        "[ 2  5  8 11]\n",
        "[[ 0  1  2]\n",
        " [ 3  4  5]\n",
        " [ 6  7  8]\n",
        " [ 9 10 11]]\n"
       ]
      }
     ],
     "prompt_number": 96
    },
    {
     "cell_type": "code",
     "collapsed": false,
     "input": [
      "Anorm = A / np.linalg.norm(A)\n",
      "print np.linalg.norm(Anorm)"
     ],
     "language": "python",
     "metadata": {},
     "outputs": [
      {
       "output_type": "stream",
       "stream": "stdout",
       "text": [
        "1.0\n"
       ]
      }
     ],
     "prompt_number": 97
    },
    {
     "cell_type": "code",
     "collapsed": false,
     "input": [
      "T = np.empty((2,4,3))\n",
      "T[0] = A\n",
      "T[1] = 2*A\n",
      "print T\n",
      "print\n",
      "print np.sum(T, axis=0)"
     ],
     "language": "python",
     "metadata": {},
     "outputs": [
      {
       "output_type": "stream",
       "stream": "stdout",
       "text": [
        "[[[  0.   1.   2.]\n",
        "  [  3.   4.   5.]\n",
        "  [  6.   7.   8.]\n",
        "  [  9.  10.  11.]]\n",
        "\n",
        " [[  0.   2.   4.]\n",
        "  [  6.   8.  10.]\n",
        "  [ 12.  14.  16.]\n",
        "  [ 18.  20.  22.]]]\n",
        "\n",
        "[[  0.   3.   6.]\n",
        " [  9.  12.  15.]\n",
        " [ 18.  21.  24.]\n",
        " [ 27.  30.  33.]]\n"
       ]
      }
     ],
     "prompt_number": 98
    },
    {
     "cell_type": "code",
     "collapsed": false,
     "input": [
      "from scipy.stats import binom\n",
      "n = 30\n",
      "p = .3\n",
      "c = binom.cdf(np.arange(n+1), np.zeros(n+1)+n, p)\n",
      "# print c\n",
      "plt.plot(c);\n",
      "# c_norm = c - np.mean(c)\n",
      "# plt.plot(c_norm)\n",
      "plt.figure()\n",
      "sig = 1. / (1. + np.exp(c))\n",
      "plt.plot(ar.zeroOneScaleMat(sig))"
     ],
     "language": "python",
     "metadata": {},
     "outputs": [
      {
       "metadata": {},
       "output_type": "pyout",
       "prompt_number": 99,
       "text": [
        "[<matplotlib.lines.Line2D at 0x116cdf950>]"
       ]
      },
      {
       "metadata": {},
       "output_type": "display_data",
       "png": "[encoded data removed]",
       "text": [
        "<matplotlib.figure.Figure at 0x116b83150>"
       ]
      },
      {
       "metadata": {},
       "output_type": "display_data",
       "png": "[encoded data removed]",
       "text": [
        "<matplotlib.figure.Figure at 0x116b83c90>"
       ]
      }
     ],
     "prompt_number": 99
    },
    {
     "cell_type": "code",
     "collapsed": false,
     "input": [
      "from scipy.stats import beta\n",
      "x = np.linspace(0., 1., 20)\n",
      "# scaleBy = 5\n",
      "# a = 3\n",
      "# b = 7\n",
      "p = .3\n",
      "plt.figure()\n",
      "for scaleBy in range(10, 101, 10):\n",
      "    c = beta.sf(x, p*scaleBy, (1-p)*scaleBy)\n",
      "    plt.plot(x, c)"
     ],
     "language": "python",
     "metadata": {},
     "outputs": [
      {
       "metadata": {},
       "output_type": "display_data",
       "png": "[encoded data removed]",
       "text": [
        "<matplotlib.figure.Figure at 0x11695c4d0>"
       ]
      }
     ],
     "prompt_number": 100
    },
    {
     "cell_type": "code",
     "collapsed": false,
     "input": [
      "x = 2 * np.arange(9)[::-1]\n",
      "print x\n",
      "print np.argsort(x) # ascending\n",
      "print np.argsort(x)[::-1] # descending"
     ],
     "language": "python",
     "metadata": {},
     "outputs": [
      {
       "output_type": "stream",
       "stream": "stdout",
       "text": [
        "[16 14 12 10  8  6  4  2  0]\n",
        "[8 7 6 5 4 3 2 1 0]\n",
        "[0 1 2 3 4 5 6 7 8]\n"
       ]
      }
     ],
     "prompt_number": 101
    },
    {
     "cell_type": "code",
     "collapsed": false,
     "input": [
      "from scipy.misc import imresize\n",
      "a = np.arange(10).reshape((-1, 1))\n",
      "# print a\n",
      "# print imresize(a, (5, 1), interp='bicubic') # huge garbagey numbers\n",
      "# print\n",
      "# print A\n",
      "# print imresize(A, (2, 3)) # huge garbagey numbers\n",
      "\n",
      "from scipy.signal import decimate\n",
      "a = np.arange(10)\n",
      "print a\n",
      "print decimate(a, 2, n=1)\n",
      "print \n",
      "print A\n",
      "print decimate(A, 2, axis=0, n=1)"
     ],
     "language": "python",
     "metadata": {},
     "outputs": [
      {
       "output_type": "stream",
       "stream": "stdout",
       "text": [
        "[0 1 2 3 4 5 6 7 8 9]\n",
        "[ 0.          1.96671647  3.94839205  5.93830345  7.93274911]\n",
        "\n",
        "[[ 0  1  2]\n",
        " [ 3  4  5]\n",
        " [ 6  7  8]\n",
        " [ 9 10 11]]"
       ]
      },
      {
       "output_type": "stream",
       "stream": "stdout",
       "text": [
        "\n",
        "[[ 0.          0.87099704  1.74199408]\n",
        " [ 5.90014941  6.82912616  7.75810291]]\n"
       ]
      }
     ],
     "prompt_number": 102
    },
    {
     "cell_type": "code",
     "collapsed": false,
     "input": [
      "# https://gist.github.com/andrewgiessel/5684769\n",
      "import numpy as np\n",
      "import pylab\n",
      "from scipy.optimize import curve_fit\n",
      " \n",
      "def sigmoid(x, x0, k):\n",
      "    y = 1 / (1 + np.exp(-k*(x-x0)))\n",
      "    return y\n",
      " \n",
      "xdata = np.array([-5,-4,-3,-2,-1, .0, 1.0, 3.0, 4.3, 7.0, 8.0, 8.5, 10.0, 12.0])\n",
      "ydata = np.array([0,0,0,0,0, .01, .02, .04, .11, .43, .7, .89, .95, .99])\n",
      "\n",
      "popt, pcov = curve_fit(sigmoid, xdata, ydata)\n",
      "print popt\n",
      " \n",
      "x = np.linspace(-1, 15, 50)\n",
      "y = sigmoid(x, *popt)\n",
      " \n",
      "pylab.plot(xdata, ydata, 'o', label='data')\n",
      "pylab.plot(x,y, label='fit')\n",
      "pylab.ylim(0, 1.05)\n",
      "pylab.legend(loc='best')\n",
      "pylab.show()"
     ],
     "language": "python",
     "metadata": {},
     "outputs": [
      {
       "output_type": "stream",
       "stream": "stdout",
       "text": [
        "[ 7.14248657  1.12930058]\n"
       ]
      },
      {
       "metadata": {},
       "output_type": "display_data",
       "png": "[encoded data removed]",
       "text": [
        "<matplotlib.figure.Figure at 0x116b3d250>"
       ]
      }
     ],
     "prompt_number": 103
    },
    {
     "cell_type": "code",
     "collapsed": false,
     "input": [
      "A = np.arange(12, dtype=np.int).reshape((4,3))\n",
      "B = np.hstack((A, A))\n",
      "print B\n",
      "pad = np.zeros((B.shape[0], 1), dtype=np.int)\n",
      "B = np.hstack((B, pad))\n",
      "rowIdxs, colIdxs = signal.argrelextrema(B, np.greater, mode='wrap', axis=1)\n",
      "print\n",
      "print rowIdxs, colIdxs\n",
      "print\n",
      "print np.vstack((rowIdxs, colIdxs)).T"
     ],
     "language": "python",
     "metadata": {},
     "outputs": [
      {
       "output_type": "stream",
       "stream": "stdout",
       "text": [
        "[[ 0  1  2  0  1  2]\n",
        " [ 3  4  5  3  4  5]\n",
        " [ 6  7  8  6  7  8]\n",
        " [ 9 10 11  9 10 11]]\n",
        "\n"
       ]
      },
      {
       "output_type": "stream",
       "stream": "stdout",
       "text": [
        "[0 0 1 1 2 2 3 3] [2 5 2 5 2 5 2 5]\n",
        "\n",
        "[[0 2]\n",
        " [0 5]\n",
        " [1 2]\n",
        " [1 5]\n",
        " [2 2]\n",
        " [2 5]\n",
        " [3 2]\n",
        " [3 5]]\n"
       ]
      }
     ],
     "prompt_number": 104
    },
    {
     "cell_type": "code",
     "collapsed": false,
     "input": [
      "print np.hamming(5)"
     ],
     "language": "python",
     "metadata": {},
     "outputs": [
      {
       "output_type": "stream",
       "stream": "stdout",
       "text": [
        "[ 0.08  0.54  1.    0.54  0.08]\n"
       ]
      }
     ],
     "prompt_number": 105
    },
    {
     "cell_type": "code",
     "collapsed": false,
     "input": [
      "np.tile((1,3,2), (3, 2))"
     ],
     "language": "python",
     "metadata": {},
     "outputs": [
      {
       "metadata": {},
       "output_type": "pyout",
       "prompt_number": 106,
       "text": [
        "array([[1, 3, 2, 1, 3, 2],\n",
        "       [1, 3, 2, 1, 3, 2],\n",
        "       [1, 3, 2, 1, 3, 2]])"
       ]
      }
     ],
     "prompt_number": 106
    },
    {
     "cell_type": "code",
     "collapsed": false,
     "input": [
      "ri = (0,1,1,3)\n",
      "ci = (0,1,2,2)\n",
      "print A\n",
      "print A[(ri, ci)]"
     ],
     "language": "python",
     "metadata": {},
     "outputs": [
      {
       "output_type": "stream",
       "stream": "stdout",
       "text": [
        "[[ 0  1  2]\n",
        " [ 3  4  5]\n",
        " [ 6  7  8]\n",
        " [ 9 10 11]]\n",
        "[ 0  4  5 11]\n"
       ]
      }
     ],
     "prompt_number": 107
    },
    {
     "cell_type": "code",
     "collapsed": false,
     "input": [
      "v = A.flatten()\n",
      "print A\n",
      "print v\n",
      "print v.reshape(A.shape)"
     ],
     "language": "python",
     "metadata": {},
     "outputs": [
      {
       "output_type": "stream",
       "stream": "stdout",
       "text": [
        "[[ 0  1  2]\n",
        " [ 3  4  5]\n",
        " [ 6  7  8]\n",
        " [ 9 10 11]]\n",
        "[ 0  1  2  3  4  5  6  7  8  9 10 11]\n",
        "[[ 0  1  2]\n",
        " [ 3  4  5]\n",
        " [ 6  7  8]\n",
        " [ 9 10 11]]\n"
       ]
      }
     ],
     "prompt_number": 108
    },
    {
     "cell_type": "code",
     "collapsed": false,
     "input": [
      "from python.algo import ff2\n",
      "Asmall = A / 5. - 1.\n",
      "# Asmall = -A / 10.\n",
      "Aproj = ff2.l1Project(Asmall)\n",
      "print Asmall\n",
      "print\n",
      "print Aproj\n",
      "print np.sum(np.abs(Aproj))"
     ],
     "language": "python",
     "metadata": {},
     "outputs": [
      {
       "output_type": "stream",
       "stream": "stdout",
       "text": [
        "[[-1.  -0.8 -0.6]\n",
        " [-0.4 -0.2  0. ]\n",
        " [ 0.2  0.4  0.6]\n",
        " [ 0.8  1.   1.2]]\n",
        "\n",
        "[[-0.24 -0.04 -0.  ]\n",
        " [-0.   -0.    0.  ]\n",
        " [ 0.    0.    0.  ]\n",
        " [ 0.04  0.24  0.44]]\n",
        "1.0"
       ]
      },
      {
       "output_type": "stream",
       "stream": "stdout",
       "text": [
        "\n"
       ]
      }
     ],
     "prompt_number": 109
    },
    {
     "cell_type": "code",
     "collapsed": false,
     "input": [
      "x = np.arange(8)[:-1]\n",
      "np.r_[x, np.zeros(4)]"
     ],
     "language": "python",
     "metadata": {},
     "outputs": [
      {
       "metadata": {},
       "output_type": "pyout",
       "prompt_number": 110,
       "text": [
        "array([ 0.,  1.,  2.,  3.,  4.,  5.,  6.,  0.,  0.,  0.,  0.])"
       ]
      }
     ],
     "prompt_number": 110
    },
    {
     "cell_type": "code",
     "collapsed": false,
     "input": [
      "np.sum(A > 0., axis=0)"
     ],
     "language": "python",
     "metadata": {},
     "outputs": [
      {
       "metadata": {},
       "output_type": "pyout",
       "prompt_number": 111,
       "text": [
        "array([3, 4, 4])"
       ]
      }
     ],
     "prompt_number": 111
    },
    {
     "cell_type": "code",
     "collapsed": false,
     "input": [
      "np.empty((3,4))"
     ],
     "language": "python",
     "metadata": {},
     "outputs": [
      {
       "metadata": {},
       "output_type": "pyout",
       "prompt_number": 112,
       "text": [
        "array([[ 0.24,  0.04,  0.  ,  0.  ],\n",
        "       [ 0.  ,  0.  ,  0.  ,  0.  ],\n",
        "       [ 0.  ,  0.04,  0.24,  0.44]])"
       ]
      }
     ],
     "prompt_number": 112
    },
    {
     "cell_type": "code",
     "collapsed": false,
     "input": [
      "M = np.random.randn(4,3)\n",
      "print M\n",
      "print np.argmax(M, axis=1)"
     ],
     "language": "python",
     "metadata": {},
     "outputs": [
      {
       "output_type": "stream",
       "stream": "stdout",
       "text": [
        "[[ 0.23561484  0.40735423 -0.66979958]\n",
        " [-1.30856708  0.76732804 -0.57180583]\n",
        " [-0.90716524  1.70325015  1.37291056]\n",
        " [-1.06839287 -0.67059997 -0.58693856]]\n",
        "[1 1 1 2]\n"
       ]
      }
     ],
     "prompt_number": 113
    },
    {
     "cell_type": "code",
     "collapsed": false,
     "input": [
      "print x\n",
      "x[np.array([False])] = x[np.array([False])]\n",
      "print x"
     ],
     "language": "python",
     "metadata": {},
     "outputs": [
      {
       "output_type": "stream",
       "stream": "stdout",
       "text": [
        "[0 1 2 3 4 5 6]\n",
        "[0 1 2 3 4 5 6]\n"
       ]
      }
     ],
     "prompt_number": 114
    },
    {
     "cell_type": "code",
     "collapsed": false,
     "input": [
      "l3 = [[] for i in range(3)]\n",
      "print l3\n",
      "l3[0].append(1)\n",
      "print l3"
     ],
     "language": "python",
     "metadata": {},
     "outputs": [
      {
       "output_type": "stream",
       "stream": "stdout",
       "text": [
        "[[], [], []]\n",
        "[[1], [], []]\n"
       ]
      }
     ],
     "prompt_number": 115
    },
    {
     "cell_type": "code",
     "collapsed": false,
     "input": [
      "print np.vstack([A, A])\n",
      "print np.r_[A, A]\n",
      "print np.r_[x, x]"
     ],
     "language": "python",
     "metadata": {},
     "outputs": [
      {
       "output_type": "stream",
       "stream": "stdout",
       "text": [
        "[[ 0  1  2]\n",
        " [ 3  4  5]\n",
        " [ 6  7  8]\n",
        " [ 9 10 11]\n",
        " [ 0  1  2]\n",
        " [ 3  4  5]\n",
        " [ 6  7  8]\n",
        " [ 9 10 11]]\n",
        "[[ 0  1  2]\n",
        " [ 3  4  5]\n",
        " [ 6  7  8]\n",
        " [ 9 10 11]\n",
        " [ 0  1  2]\n",
        " [ 3  4  5]\n",
        " [ 6  7  8]\n",
        " [ 9 10 11]]\n",
        "[0 1 2 3 4 5 6 0 1 2 3 4 5 6]\n"
       ]
      }
     ],
     "prompt_number": 116
    },
    {
     "cell_type": "code",
     "collapsed": false,
     "input": [
      "print x.reshape((-1,1))\n",
      "print x"
     ],
     "language": "python",
     "metadata": {},
     "outputs": [
      {
       "output_type": "stream",
       "stream": "stdout",
       "text": [
        "[[0]\n",
        " [1]\n",
        " [2]\n",
        " [3]\n",
        " [4]\n",
        " [5]\n",
        " [6]]\n",
        "[0 1 2 3 4 5 6]\n"
       ]
      }
     ],
     "prompt_number": 117
    },
    {
     "cell_type": "code",
     "collapsed": false,
     "input": [
      "np.random.shuffle(x)\n",
      "print x"
     ],
     "language": "python",
     "metadata": {},
     "outputs": [
      {
       "output_type": "stream",
       "stream": "stdout",
       "text": [
        "[1 3 4 6 5 2 0]\n"
       ]
      }
     ],
     "prompt_number": 118
    },
    {
     "cell_type": "code",
     "collapsed": false,
     "input": [
      "np.var(A)"
     ],
     "language": "python",
     "metadata": {},
     "outputs": [
      {
       "metadata": {},
       "output_type": "pyout",
       "prompt_number": 119,
       "text": [
        "11.916666666666666"
       ]
      }
     ],
     "prompt_number": 119
    },
    {
     "cell_type": "code",
     "collapsed": false,
     "input": [
      "B = np.array([[1,1],[0,1]])\n",
      "print B\n",
      "print np.argmax(B, axis=1)"
     ],
     "language": "python",
     "metadata": {},
     "outputs": [
      {
       "output_type": "stream",
       "stream": "stdout",
       "text": [
        "[[1 1]\n",
        " [0 1]]\n",
        "[0 1]\n"
       ]
      }
     ],
     "prompt_number": 124
    },
    {
     "cell_type": "code",
     "collapsed": false,
     "input": [
      "np.eye(2)[(np.arange(2), np.arange(2))]"
     ],
     "language": "python",
     "metadata": {},
     "outputs": [
      {
       "metadata": {},
       "output_type": "pyout",
       "prompt_number": 126,
       "text": [
        "array([ 1.,  1.])"
       ]
      }
     ],
     "prompt_number": 126
    },
    {
     "cell_type": "code",
     "collapsed": false,
     "input": [
      "plt.plot(synth.notSoRandomWalk(100))\n",
      "# walk, trend = synth.notSoRandomWalk(200)\n",
      "# plt.plot(walk)\n",
      "# plt.plot(trend);"
     ],
     "language": "python",
     "metadata": {},
     "outputs": [
      {
       "metadata": {},
       "output_type": "display_data",
       "png": "[encoded data removed]",
       "text": [
        "<matplotlib.figure.Figure at 0x119033150>"
       ]
      }
     ],
     "prompt_number": 72
    },
    {
     "cell_type": "code",
     "collapsed": false,
     "input": [
      "# verify relationship between ED and cos sim\n",
      "xNorm = (x - np.mean(x)) / np.std(x)\n",
      "y = np.copy(xNorm)\n",
      "np.random.shuffle(y)\n",
      "print xNorm\n",
      "print y\n",
      "m = len(x)\n",
      "\n",
      "# via dot prods normalized by length\n",
      "cosSim_xx = np.dot(xNorm, xNorm) / m # 1.0\n",
      "cosSim_yy = np.dot(y, y) / m\n",
      "cosSim_xy = np.dot(xNorm, y) / m # > 1.0 sometimes...\n",
      "print\n",
      "print cosSim_xx # yep, 1.0\n",
      "print cosSim_yy # yep, 1.0\n",
      "print\n",
      "print cosSim_xy\n",
      "\n",
      "# via squared euclidean distances\n",
      "diff = (xNorm - y)\n",
      "dist = np.sum(diff*diff)\n",
      "print 1. - dist/(2*m)\n",
      "\n",
      "# via unit vects\n",
      "xNorm2 = x - np.mean(x)\n",
      "xNorm2 /= np.linalg.norm(xNorm2)\n",
      "yNorm2 = y - np.mean(y)\n",
      "yNorm2 /= np.linalg.norm(yNorm2)\n",
      "print np.dot(xNorm2, yNorm2)\n"
     ],
     "language": "python",
     "metadata": {},
     "outputs": [
      {
       "output_type": "stream",
       "stream": "stdout",
       "text": [
        "[ 1.59325501  1.30357228  1.01388955  0.72420682  0.43452409  0.14484136\n",
        " -0.14484136 -0.43452409 -0.72420682 -1.01388955 -1.30357228 -1.59325501]\n",
        "[ 1.59325501 -0.43452409 -0.72420682 -1.30357228  1.30357228  0.43452409\n",
        " -0.14484136 -1.59325501  0.14484136  1.01388955  0.72420682 -1.01388955]\n",
        "\n"
       ]
      },
      {
       "output_type": "stream",
       "stream": "stdout",
       "text": [
        "1.0\n",
        "1.0\n",
        "\n",
        "0.0979020979021"
       ]
      },
      {
       "output_type": "stream",
       "stream": "stdout",
       "text": [
        "\n",
        "0.0979020979021"
       ]
      },
      {
       "output_type": "stream",
       "stream": "stdout",
       "text": [
        "\n",
        "0.0979020979021"
       ]
      },
      {
       "output_type": "stream",
       "stream": "stdout",
       "text": [
        "\n"
       ]
      }
     ],
     "prompt_number": 107
    },
    {
     "cell_type": "code",
     "collapsed": false,
     "input": [
      "np.array([1])"
     ],
     "language": "python",
     "metadata": {},
     "outputs": [
      {
       "metadata": {},
       "output_type": "pyout",
       "prompt_number": 109,
       "text": [
        "array([1])"
       ]
      }
     ],
     "prompt_number": 109
    },
    {
     "cell_type": "code",
     "collapsed": false,
     "input": [
      "# What *exactly* is the 2d conv func doing?\n",
      "# It appears it flips the filter both horizontally and\n",
      "# vertically like we'd expect, and valid does in fact\n",
      "# just return the part where it's entirely in the matrix\n",
      "\n",
      "from scipy import signal as sig\n",
      "Lmax = 3\n",
      "# we set filter = diag(1,2,3)\n",
      "filt = np.zeros((Lmax, Lmax)) + np.diag(np.arange(Lmax)+1) # zeros except 1s on diag\n",
      "testMat = np.zeros((8,8))\n",
      "testMat[0,0] = 1\n",
      "out = sig.convolve2d(testMat, filt, mode='valid')\n",
      "plt.imshow(out, interpolation='none')\n",
      "plt.colorbar()"
     ],
     "language": "python",
     "metadata": {},
     "outputs": [
      {
       "metadata": {},
       "output_type": "pyout",
       "prompt_number": 10,
       "text": [
        "<matplotlib.colorbar.Colorbar instance at 0x116507c68>"
       ]
      },
      {
       "metadata": {},
       "output_type": "display_data",
       "png": "[encoded data removed]",
       "text": [
        "<matplotlib.figure.Figure at 0x114841950>"
       ]
      }
     ],
     "prompt_number": 10
    },
    {
     "cell_type": "code",
     "collapsed": false,
     "input": [
      "testMat[:,:] = 0\n",
      "# testMat[3, 3] = 1.\n",
      "testMat[4, 4] = 1.\n",
      "out = sig.convolve2d(testMat, filt, mode='valid')\n",
      "plt.imshow(out, interpolation='none')\n",
      "plt.colorbar()"
     ],
     "language": "python",
     "metadata": {},
     "outputs": [
      {
       "metadata": {},
       "output_type": "pyout",
       "prompt_number": 11,
       "text": [
        "<matplotlib.colorbar.Colorbar instance at 0x116925c20>"
       ]
      },
      {
       "metadata": {},
       "output_type": "display_data",
       "png": "[encoded data removed]",
       "text": [
        "<matplotlib.figure.Figure at 0x11652efd0>"
       ]
      }
     ],
     "prompt_number": 11
    },
    {
     "cell_type": "code",
     "collapsed": false,
     "input": [
      "testMat[:,:] = 0\n",
      "testMat[-1, -1] = 1.\n",
      "out = sig.convolve2d(testMat, filt, mode='valid')\n",
      "plt.imshow(out, interpolation='none')\n",
      "plt.colorbar()"
     ],
     "language": "python",
     "metadata": {},
     "outputs": [
      {
       "metadata": {},
       "output_type": "pyout",
       "prompt_number": 12,
       "text": [
        "<matplotlib.colorbar.Colorbar instance at 0x116af7290>"
       ]
      },
      {
       "metadata": {},
       "output_type": "display_data",
       "png": "[encoded data removed]",
       "text": [
        "<matplotlib.figure.Figure at 0x116538490>"
       ]
      }
     ],
     "prompt_number": 12
    },
    {
     "cell_type": "code",
     "collapsed": false,
     "input": [
      "np.sort(np.arange(4))"
     ],
     "language": "python",
     "metadata": {},
     "outputs": [
      {
       "metadata": {},
       "output_type": "pyout",
       "prompt_number": 14,
       "text": [
        "array([0, 1, 2, 3])"
       ]
      }
     ],
     "prompt_number": 14
    },
    {
     "cell_type": "code",
     "collapsed": false,
     "input": [
      "\"{0}.{1}\".format(0, 1)"
     ],
     "language": "python",
     "metadata": {},
     "outputs": [
      {
       "metadata": {},
       "output_type": "pyout",
       "prompt_number": 17,
       "text": [
        "'0.1'"
       ]
      }
     ],
     "prompt_number": 17
    },
    {
     "cell_type": "code",
     "collapsed": false,
     "input": [
      "# Um, break is just innermost loop, right? -> yep\n",
      "for i in range(3):\n",
      "    for j in range(4):\n",
      "        print j\n",
      "        break"
     ],
     "language": "python",
     "metadata": {},
     "outputs": [
      {
       "output_type": "stream",
       "stream": "stdout",
       "text": [
        "0\n",
        "0\n",
        "0\n"
       ]
      }
     ],
     "prompt_number": 33
    },
    {
     "cell_type": "code",
     "collapsed": false,
     "input": [
      "# how do we get row, col argmax?\n",
      "idx = np.argmax(A)\n",
      "row, col = idx // A.shape[1], idx % A.shape[1]\n",
      "print A.flatten()\n",
      "print A.flatten()[idx], \"==\", A[row, col]"
     ],
     "language": "python",
     "metadata": {},
     "outputs": [
      {
       "output_type": "stream",
       "stream": "stdout",
       "text": [
        "[ 0  1  2  3  4  5  6  7  8  9 10 11]\n",
        "11 == 11\n"
       ]
      }
     ],
     "prompt_number": 34
    },
    {
     "cell_type": "code",
     "collapsed": false,
     "input": [
      "sorted([3, 5]) # yep, ascending order"
     ],
     "language": "python",
     "metadata": {},
     "outputs": [
      {
       "metadata": {},
       "output_type": "pyout",
       "prompt_number": 35,
       "text": [
        "[3, 5]"
       ]
      }
     ],
     "prompt_number": 35
    },
    {
     "cell_type": "code",
     "collapsed": false,
     "input": [
      "print A[[1,2]]\n",
      "print A[(1,2)]\n",
      "print A[1, 2]"
     ],
     "language": "python",
     "metadata": {},
     "outputs": [
      {
       "output_type": "stream",
       "stream": "stdout",
       "text": [
        "[[3 4 5]\n",
        " [6 7 8]]\n",
        "5\n",
        "5\n"
       ]
      }
     ],
     "prompt_number": 38
    },
    {
     "cell_type": "code",
     "collapsed": false,
     "input": [
      "print A\n",
      "print np.diagonal(A)\n",
      "print A[:3]\n",
      "print np.diagonal(A[:3])"
     ],
     "language": "python",
     "metadata": {},
     "outputs": [
      {
       "output_type": "stream",
       "stream": "stdout",
       "text": [
        "[[ 0  1  2]\n",
        " [ 3  4  5]\n",
        " [ 6  7  8]\n",
        " [ 9 10 11]]\n",
        "[0 4 8]\n",
        "[[0 1 2]\n",
        " [3 4 5]\n",
        " [6 7 8]]\n",
        "[0 4 8]"
       ]
      },
      {
       "output_type": "stream",
       "stream": "stdout",
       "text": [
        "\n"
       ]
      }
     ],
     "prompt_number": 41
    },
    {
     "cell_type": "code",
     "collapsed": false,
     "input": [],
     "language": "python",
     "metadata": {},
     "outputs": [
      {
       "ename": "NameError",
       "evalue": "name 'A' is not defined",
       "output_type": "pyerr",
       "traceback": [
        "\u001b[0;31m---------------------------------------------------------------------------\u001b[0m\n\u001b[0;31mNameError\u001b[0m                                 Traceback (most recent call last)",
        "\u001b[0;32m<ipython-input-2-bf072e911907>\u001b[0m in \u001b[0;36m<module>\u001b[0;34m()\u001b[0m\n\u001b[0;32m----> 1\u001b[0;31m \u001b[0mA\u001b[0m\u001b[0;34m\u001b[0m\u001b[0m\n\u001b[0m",
        "\u001b[0;31mNameError\u001b[0m: name 'A' is not defined"
       ]
      }
     ],
     "prompt_number": 2
    },
    {
     "cell_type": "code",
     "collapsed": false,
     "input": [],
     "language": "python",
     "metadata": {},
     "outputs": []
    }
   ],
   "metadata": {}
  }
 ]
}