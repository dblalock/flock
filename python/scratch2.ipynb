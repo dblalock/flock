{
 "metadata": {
  "name": ""
 },
 "nbformat": 3,
 "nbformat_minor": 0,
 "worksheets": [
  {
   "cells": [
    {
     "cell_type": "code",
     "collapsed": false,
     "input": [
      "import numpy as np\n",
      "import pandas as pd\n",
      "import matplotlib.pyplot as plt\n",
      "\n",
      "from datasets import synthetic as synth\n",
      "from utils import arrays as ar\n",
      "\n",
      "# enable imports; must be run from notebook's directory\n",
      "import sys\n",
      "sys.path.append('.') # get access to all our code\n",
      "sys.path.append('../figs') # get access to all our figs\n",
      "sys.path.append('..') # stuff doing relative imports needs to be imported relative to here\n",
      "\n",
      "%matplotlib inline\n",
      "%load_ext autoreload\n",
      "%autoreload 2\n",
      "\n",
      "A = np.arange(12).reshape((4,3))\n",
      "x = np.arange(9)\n",
      "l = [1,3,2,4]\n",
      "d = {'a': 1, 'b': 2, 'c': 3}"
     ],
     "language": "python",
     "metadata": {},
     "outputs": [],
     "prompt_number": 1
    },
    {
     "cell_type": "code",
     "collapsed": false,
     "input": [
      "# FLANN stuff\n",
      "from pyflann import *\n",
      "from numpy.random import randn\n",
      "length = 128\n",
      "dataset = randn(10000, length)\n",
      "testset = randn(1000, length)\n",
      "# make them randwalks\n",
      "dataset = np.cumsum(dataset, axis=1)\n",
      "testset = np.cumsum(testset, axis=1)\n",
      "# znorm\n",
      "dataset = ar.zNormalizeRows(dataset)\n",
      "testset = ar.zNormalizeRows(testset)\n",
      "# set_distance_type('euclidean')\n",
      "flann = FLANN()\n",
      "# result, dists = flann.nn(dataset,testset,5,algorithm=\"kmeans\", branching=32, iterations=7, checks=16)\n",
      "k = 1\n",
      "result, dists = flann.nn(dataset,testset,k)\n",
      "print \"neighbor idxs and dists shapes\"\n",
      "print result.shape, dists.shape\n",
      "print\n",
      "print \"min and max neighbor idxs\", np.min(result), np.max(result)\n",
      "print\n",
      "print \"avg squared dist\", np.mean(dists / length)\n",
      "nnIdx = result[0]\n",
      "q, x = testset[0], dataset[nnIdx]\n",
      "print \"dist between test[0] and its nn:\"\n",
      "dist = np.sum((q-x)**2)\n",
      "print dist / length\n",
      "print dists[0] / length # same as prev line; dists returned must be squared Euclidean\n",
      "\n",
      "print \"----- radius search:\"\n",
      "# params = flann.build_index(dataset, algorithm=\"autotuned\", target_precision=0.9, log_level=\"info\", memory_weight=.01)\n",
      "# params = flann.build_index(dataset, checks=500, log_level=\"info\", memory_weight=.01)\n",
      "# params = flann.build_index(dataset, checks=100, log_level=\"info\", memory_weight=.01, algorithm=\"kmeans\")\n",
      "params = flann.build_index(dataset, log_level=\"info\", memory_weight=.01, algorithm=\"kdtree\", trees=32) # 16 -> still inconsistent\n",
      "print params\n",
      "print \"stuff within radius:\"\n",
      "results, dists = flann.nn_radius(testset[0], radius=.25 * length) # whoa; super nondeterministic, often with terrible recall\n",
      "print results, dists / length\n",
      "print \"number of neighbors in radius:\", len(results)"
     ],
     "language": "python",
     "metadata": {},
     "outputs": [
      {
       "output_type": "stream",
       "stream": "stdout",
       "text": [
        "neighbor idxs and dists shapes\n",
        "(1000,) (1000,)\n",
        "\n",
        "min and max neighbor idxs"
       ]
      },
      {
       "output_type": "stream",
       "stream": "stdout",
       "text": [
        " 12 9976\n",
        "\n",
        "avg squared dist 0.267363239904\n",
        "dist between test[0] and its nn:"
       ]
      },
      {
       "output_type": "stream",
       "stream": "stdout",
       "text": [
        "\n",
        "0.221258532299\n",
        "0.221258532299"
       ]
      },
      {
       "output_type": "stream",
       "stream": "stdout",
       "text": [
        "\n",
        "----- radius search:\n",
        "{'speedup': 0.0, 'iterations': 5, 'multi_probe_level_': 2L, 'cb_index': 0.5, 'centers_init': 'default', 'log_level': 'info', 'build_weight': 0.009999999776482582, 'leaf_max_size': 4, 'memory_weight': 0.009999999776482582, 'sample_fraction': 0.10000000149011612, 'checks': 32, 'max_neighbors': -1, 'random_seed': 673234748, 'trees': 32, 'target_precision': 0.8999999761581421, 'table_number_': 12L, 'sorted': 1, 'branching': 32, 'algorithm': 'default', 'key_size_': 20L, 'eps': 0.0, 'cores': 0}"
       ]
      },
      {
       "output_type": "stream",
       "stream": "stdout",
       "text": [
        "\n",
        "stuff within radius:\n",
        "[3105 4850 1174 1048 6287 6927 3884 5003]"
       ]
      },
      {
       "output_type": "stream",
       "stream": "stdout",
       "text": [
        " [ 0.17796051  0.21241208  0.21455668  0.21862764  0.22068061  0.22392558\n",
        "  0.22568223  0.22749204]\n",
        "number of neighbors in radius: 8\n"
       ]
      }
     ],
     "prompt_number": 61
    },
    {
     "cell_type": "code",
     "collapsed": false,
     "input": [
      "Objs = np.empty((4,3), dtype=np.object)\n",
      "print Objs\n",
      "Objs[0,0] = np.ones(2)\n",
      "print Objs"
     ],
     "language": "python",
     "metadata": {},
     "outputs": [
      {
       "output_type": "stream",
       "stream": "stdout",
       "text": [
        "[[None None None]\n",
        " [None None None]\n",
        " [None None None]\n",
        " [None None None]]\n",
        "[[array([ 1.,  1.]) None None]\n",
        " [None None None]\n",
        " [None None None]\n",
        " [None None None]]\n"
       ]
      }
     ],
     "prompt_number": 62
    },
    {
     "cell_type": "code",
     "collapsed": false,
     "input": [
      "from scipy import sparse\n",
      "x = np.zeros(10)\n",
      "x[1] = 1\n",
      "x[5] = 5\n",
      "xs = sparse.csr_matrix(x)\n",
      "print xs\n",
      "print xs.shape\n",
      "print\n",
      "print sparse.hstack([xs, xs])\n",
      "print\n",
      "print sparse.hstack(np.array([xs, xs]))\n",
      "print\n",
      "xs[1:5] = 2\n",
      "print xs"
     ],
     "language": "python",
     "metadata": {},
     "outputs": [
      {
       "output_type": "stream",
       "stream": "stdout",
       "text": [
        "  (0, 1)\t1.0\n",
        "  (0, 5)\t5.0\n",
        "(1, 10)\n",
        "\n",
        "  (0, 1)\t1.0\n",
        "  (0, 5)\t5.0\n",
        "  (0, 11)\t1.0\n",
        "  (0, 15)\t5.0"
       ]
      },
      {
       "output_type": "stream",
       "stream": "stdout",
       "text": [
        "\n",
        "\n",
        "  (0, 1)\t1.0\n",
        "  (0, 5)\t5.0\n",
        "  (0, 11)\t1.0\n",
        "  (0, 15)\t5.0\n",
        "\n"
       ]
      },
      {
       "output_type": "stream",
       "stream": "stdout",
       "text": [
        "  (0, 1)\t1.0\n",
        "  (0, 5)\t5.0\n"
       ]
      }
     ],
     "prompt_number": 66
    },
    {
     "cell_type": "code",
     "collapsed": false,
     "input": [
      "x = np.arange(9)\n",
      "y = np.arange(9)\n",
      "x += 3\n",
      "print x\n",
      "print y\n",
      "print\n",
      "y[:] = x\n",
      "# y = x\n",
      "x += 3\n",
      "print x\n",
      "print y"
     ],
     "language": "python",
     "metadata": {},
     "outputs": [
      {
       "output_type": "stream",
       "stream": "stdout",
       "text": [
        "[ 3  4  5  6  7  8  9 10 11]\n",
        "[0 1 2 3 4 5 6 7 8]\n",
        "\n",
        "[ 6  7  8  9 10 11 12 13 14]"
       ]
      },
      {
       "output_type": "stream",
       "stream": "stdout",
       "text": [
        "\n",
        "[ 3  4  5  6  7  8  9 10 11]\n"
       ]
      }
     ],
     "prompt_number": 44
    },
    {
     "cell_type": "code",
     "collapsed": false,
     "input": [
      "i = np.arange(3)\n",
      "j = np.arange(3)\n",
      "# idxPairs = zip(i, j) # doesn't work--want 2 lists, not 2 lists of pairs\n",
      "idxPairs = [i, j]\n",
      "print idxPairs\n",
      "print A\n",
      "# print A[([0,1], [0,1])] # works\n",
      "# print A[((0,1), (0,1))] # works\n",
      "print A[idxPairs]"
     ],
     "language": "python",
     "metadata": {},
     "outputs": [
      {
       "output_type": "stream",
       "stream": "stdout",
       "text": [
        "[array([0, 1, 2]), array([0, 1, 2])]\n",
        "[[ 0  1  2]\n",
        " [ 3  4  5]\n",
        " [ 6  7  8]\n",
        " [ 9 10 11]]\n",
        "[0 4 8]\n"
       ]
      }
     ],
     "prompt_number": 60
    },
    {
     "cell_type": "code",
     "collapsed": false,
     "input": [
      "from scipy import signal as sig\n",
      "s = [0,1,1,1,0]\n"
     ],
     "language": "python",
     "metadata": {},
     "outputs": [],
     "prompt_number": 59
    },
    {
     "cell_type": "code",
     "collapsed": false,
     "input": [
      "a = [0, -2, 11]\n",
      "np.sign(a)"
     ],
     "language": "python",
     "metadata": {},
     "outputs": [
      {
       "metadata": {},
       "output_type": "pyout",
       "prompt_number": 68,
       "text": [
        "array([ 0, -1,  1])"
       ]
      }
     ],
     "prompt_number": 68
    },
    {
     "cell_type": "code",
     "collapsed": false,
     "input": [
      "# how well does generating random data with the same frequency\n",
      "# magnitude spectrum, but different phase, work out?\n",
      "# EDIT: pretty well--I'd say this is from roughly the same \n",
      "# manifold; except maybe that stuff near endpoints tends to\n",
      "# be extreme (and not just last point--it's a few of them)\n",
      "from datasets import synthetic as synth\n",
      "x = synth.notSoRandomWalk((2, 100))\n",
      "noise = synth.randWithFreqMagMatching(x)\n",
      "plt.plot(x.T)\n",
      "plt.plot(noise.T)\n",
      "# print np.std(x)     # these 2 are the same, meaning\n",
      "# print np.std(noise) # we did it right\n",
      "\n",
      "mags = np.fft.fft(x)\n",
      "noiseMags = np.fft.fft(noise)\n",
      "whiteNoiseMags = np.fft.fft(np.random.randn(*x.shape))\n",
      "plt.figure()\n",
      "plt.plot(mags.T)\n",
      "plt.plot(noiseMags.T)\n",
      "plt.plot(whiteNoiseMags.T)"
     ],
     "language": "python",
     "metadata": {},
     "outputs": [
      {
       "metadata": {},
       "output_type": "pyout",
       "prompt_number": 135,
       "text": [
        "[<matplotlib.lines.Line2D at 0x127232450>,\n",
        " <matplotlib.lines.Line2D at 0x127212a90>]"
       ]
      },
      {
       "metadata": {},
       "output_type": "display_data",
       "png": "[encoded data removed]",
       "text": [
        "<matplotlib.figure.Figure at 0x120e9c450>"
       ]
      },
      {
       "metadata": {},
       "output_type": "display_data",
       "png": "[encoded data removed]",
       "text": [
        "<matplotlib.figure.Figure at 0x1270a4dd0>"
       ]
      }
     ],
     "prompt_number": 135
    },
    {
     "cell_type": "code",
     "collapsed": false,
     "input": [
      "np.var(np.ones(5))\n",
      "np.where(A)\n",
      "print ar.nonzeroRows(A)\n",
      "zeros = ar.nonzeroRows(np.zeros((4,3)))"
     ],
     "language": "python",
     "metadata": {},
     "outputs": [
      {
       "output_type": "stream",
       "stream": "stdout",
       "text": [
        "[0 1 2 3]\n"
       ]
      }
     ],
     "prompt_number": 141
    },
    {
     "cell_type": "code",
     "collapsed": false,
     "input": [
      "Ts = [1,2,4,3,5]\n",
      "Te = [4,3,2,1,0]\n",
      "sortThese = np.c_[Te, Ts]\n",
      "sortIdxs = np.argsort(sortThese, axis=0)\n",
      "print sortThese\n",
      "print \"sortIdxs:\"\n",
      "print sortIdxs\n",
      "print \"sorted:\"\n",
      "print sortThese[sortIdxs]"
     ],
     "language": "python",
     "metadata": {},
     "outputs": [
      {
       "output_type": "stream",
       "stream": "stdout",
       "text": [
        "[[4 1]\n",
        " [3 2]\n",
        " [2 4]\n",
        " [1 3]\n",
        " [0 5]]\n",
        "sortIdxs:\n",
        "[[4 0]\n",
        " [3 1]\n",
        " [2 3]\n",
        " [1 2]\n",
        " [0 4]]\n",
        "sorted:"
       ]
      },
      {
       "output_type": "stream",
       "stream": "stdout",
       "text": [
        "\n",
        "[[[0 5]\n",
        "  [4 1]]\n",
        "\n",
        " [[1 3]\n",
        "  [3 2]]\n",
        "\n",
        " [[2 4]\n",
        "  [1 3]]\n",
        "\n",
        " [[3 2]\n",
        "  [2 4]]\n",
        "\n",
        " [[4 1]\n",
        "  [0 5]]]\n"
       ]
      }
     ],
     "prompt_number": 14
    },
    {
     "cell_type": "code",
     "collapsed": false,
     "input": [
      "x = [1,1,3,3,2,4,5,4,6]\n",
      "futureMins = np.minimum.accumulate(x[::-1])[::-1]\n",
      "print futureMins\n",
      "print\n",
      "x = [1,1,3,3,0,4,5,4,6]\n",
      "futureMins = np.minimum.accumulate(x[::-1])[::-1]\n",
      "print futureMins"
     ],
     "language": "python",
     "metadata": {},
     "outputs": [
      {
       "output_type": "stream",
       "stream": "stdout",
       "text": [
        "[1 1 2 2 2 4 4 4 6]\n",
        "\n",
        "[0 0 0 0 0 4 4 4 6]"
       ]
      },
      {
       "output_type": "stream",
       "stream": "stdout",
       "text": [
        "\n"
       ]
      }
     ],
     "prompt_number": 20
    },
    {
     "cell_type": "code",
     "collapsed": false,
     "input": [
      "# np.c_[x, x]\n",
      "np.minimum.accumulate([0][::-1])[::-1]"
     ],
     "language": "python",
     "metadata": {},
     "outputs": [
      {
       "metadata": {},
       "output_type": "pyout",
       "prompt_number": 24,
       "text": [
        "array([0])"
       ]
      }
     ],
     "prompt_number": 24
    },
    {
     "cell_type": "code",
     "collapsed": false,
     "input": [
      "x1, x2 = np.vstack((x, x)).T\n",
      "print x1, x2"
     ],
     "language": "python",
     "metadata": {},
     "outputs": [
      {
       "ename": "ValueError",
       "evalue": "too many values to unpack",
       "output_type": "pyerr",
       "traceback": [
        "\u001b[0;31m---------------------------------------------------------------------------\u001b[0m\n\u001b[0;31mValueError\u001b[0m                                Traceback (most recent call last)",
        "\u001b[0;32m<ipython-input-28-7fceca1dad26>\u001b[0m in \u001b[0;36m<module>\u001b[0;34m()\u001b[0m\n\u001b[0;32m----> 1\u001b[0;31m \u001b[0mx1\u001b[0m\u001b[0;34m,\u001b[0m \u001b[0mx2\u001b[0m \u001b[0;34m=\u001b[0m \u001b[0mnp\u001b[0m\u001b[0;34m.\u001b[0m\u001b[0mvstack\u001b[0m\u001b[0;34m(\u001b[0m\u001b[0;34m(\u001b[0m\u001b[0mx\u001b[0m\u001b[0;34m,\u001b[0m \u001b[0mx\u001b[0m\u001b[0;34m)\u001b[0m\u001b[0;34m)\u001b[0m\u001b[0;34m.\u001b[0m\u001b[0mT\u001b[0m\u001b[0;34m\u001b[0m\u001b[0m\n\u001b[0m\u001b[1;32m      2\u001b[0m \u001b[0;32mprint\u001b[0m \u001b[0mx1\u001b[0m\u001b[0;34m,\u001b[0m \u001b[0mx2\u001b[0m\u001b[0;34m\u001b[0m\u001b[0m\n",
        "\u001b[0;31mValueError\u001b[0m: too many values to unpack"
       ]
      }
     ],
     "prompt_number": 28
    },
    {
     "cell_type": "code",
     "collapsed": false,
     "input": [
      "if x[-1:-1]:\n",
      "    print \"true\"\n",
      "else:\n",
      "    print \"false\""
     ],
     "language": "python",
     "metadata": {},
     "outputs": [
      {
       "output_type": "stream",
       "stream": "stdout",
       "text": [
        "false\n"
       ]
      }
     ],
     "prompt_number": 5
    },
    {
     "cell_type": "code",
     "collapsed": false,
     "input": [
      "# is argsort ascending or descending? EDIT: ascending\n",
      "print x\n",
      "print np.argsort(x)\n",
      "print np.argsort(x[::-1])"
     ],
     "language": "python",
     "metadata": {},
     "outputs": [
      {
       "output_type": "stream",
       "stream": "stdout",
       "text": [
        "[0 1 2 3 4 5 6 7 8]\n",
        "[0 1 2 3 4 5 6 7 8]\n",
        "[8 7 6 5 4 3 2 1 0]\n"
       ]
      }
     ],
     "prompt_number": 7
    },
    {
     "cell_type": "code",
     "collapsed": false,
     "input": [
      "np.argmin([1, 1])"
     ],
     "language": "python",
     "metadata": {},
     "outputs": [
      {
       "metadata": {},
       "output_type": "pyout",
       "prompt_number": 8,
       "text": [
        "0"
       ]
      }
     ],
     "prompt_number": 8
    },
    {
     "cell_type": "code",
     "collapsed": false,
     "input": [
      "x.astype(np.int)\n",
      "A\n",
      "print np.mean(A, axis=0)\n",
      "print np.mean(A, axis=0).astype(np.int)"
     ],
     "language": "python",
     "metadata": {},
     "outputs": [
      {
       "output_type": "stream",
       "stream": "stdout",
       "text": [
        "[ 4.5  5.5  6.5]\n",
        "[4 5 6]\n"
       ]
      }
     ],
     "prompt_number": 14
    },
    {
     "cell_type": "code",
     "collapsed": false,
     "input": [
      "s = set()\n",
      "s |= set([2, 4, 6])\n",
      "s |= set(range(3))\n",
      "s\n",
      "print 2 in s\n",
      "print 71 in s"
     ],
     "language": "python",
     "metadata": {},
     "outputs": [
      {
       "output_type": "stream",
       "stream": "stdout",
       "text": [
        "True\n",
        "False\n"
       ]
      }
     ],
     "prompt_number": 27
    },
    {
     "cell_type": "code",
     "collapsed": false,
     "input": [
      "print A\n",
      "print A[[1, 2]] # select multiple rows\n",
      "print A[(1, 2)] # select row, col"
     ],
     "language": "python",
     "metadata": {},
     "outputs": [
      {
       "output_type": "stream",
       "stream": "stdout",
       "text": [
        "[[ 0  1  2]\n",
        " [ 3  4  5]\n",
        " [ 6  7  8]\n",
        " [ 9 10 11]]\n",
        "[[3 4 5]\n",
        " [6 7 8]]\n",
        "5\n"
       ]
      }
     ],
     "prompt_number": 24
    },
    {
     "cell_type": "code",
     "collapsed": false,
     "input": [
      "2**8"
     ],
     "language": "python",
     "metadata": {},
     "outputs": [
      {
       "metadata": {},
       "output_type": "pyout",
       "prompt_number": 28,
       "text": [
        "256"
       ]
      }
     ],
     "prompt_number": 28
    },
    {
     "cell_type": "code",
     "collapsed": false,
     "input": [
      "z = [-1.5, -.5, 0, .5, 1.5]\n",
      "bins = [-1, 0, 1]\n",
      "print np.digitize(z, bins)\n",
      "print np.digitize(z, bins, right=True) # <= vs <"
     ],
     "language": "python",
     "metadata": {},
     "outputs": [
      {
       "output_type": "stream",
       "stream": "stdout",
       "text": [
        "[0 1 2 2 3]\n",
        "[0 1 1 2 3]\n"
       ]
      }
     ],
     "prompt_number": 32
    },
    {
     "cell_type": "code",
     "collapsed": false,
     "input": [
      "from scipy.stats import norm\n",
      "# yep, so ppf is inverse cdf\n",
      "print norm.ppf(.5)\n",
      "print norm.ppf(0)\n",
      "print norm.ppf(1.)\n",
      "print norm.ppf(.975)\n",
      "print norm.ppf([0, .5, .975, 1])"
     ],
     "language": "python",
     "metadata": {},
     "outputs": [
      {
       "output_type": "stream",
       "stream": "stdout",
       "text": [
        "0.0\n",
        "-inf\n",
        "inf\n",
        "1.95996398454"
       ]
      },
      {
       "output_type": "stream",
       "stream": "stdout",
       "text": [
        "\n",
        "[       -inf  0.          1.95996398         inf]\n"
       ]
      }
     ],
     "prompt_number": 37
    },
    {
     "cell_type": "code",
     "collapsed": false,
     "input": [
      "quantiles = np.linspace(0, 1, 4 + 1) # 4+1 pts -> 4 intervals\n",
      "print quantiles\n",
      "print quantiles[1:-1]"
     ],
     "language": "python",
     "metadata": {},
     "outputs": [
      {
       "output_type": "stream",
       "stream": "stdout",
       "text": [
        "[ 0.    0.25  0.5   0.75  1.  ]\n",
        "[ 0.25  0.5   0.75]\n"
       ]
      }
     ],
     "prompt_number": 41
    },
    {
     "cell_type": "code",
     "collapsed": false,
     "input": [
      "quantilesNoInf = quantiles[1:-1]\n",
      "breakPoints = norm.ppf(quantilesNoInf)\n",
      "print breakPoints\n",
      "print\n",
      "print np.digitize(z, breakPoints)"
     ],
     "language": "python",
     "metadata": {},
     "outputs": [
      {
       "output_type": "stream",
       "stream": "stdout",
       "text": [
        "[-0.67448975  0.          0.67448975]\n",
        "\n",
        "[0 1 2 2 3]\n"
       ]
      }
     ],
     "prompt_number": 45
    },
    {
     "cell_type": "code",
     "collapsed": false,
     "input": [
      "def saxMat(origLen, wordLen):\n",
      "    # note that this just ignores the last few points\n",
      "    # if origLen isn't a multiple of wordLen\n",
      "\tsymbolLen = origLen // wordLen\n",
      "\tstartIdxs = np.arange(0, origLen, symbolLen)\n",
      "\tendIdxs = np.r_[startIdxs[1:], origLen]\n",
      "\n",
      "# \tfilterMat = np.zeros((origLen, wordLen))\n",
      "# \tfor i in range(wordLen):\n",
      "# \t\tstart, end = startIdxs[i], endIdxs[i]\n",
      "# \t\tfilterMat[start:end, i] = 1. / (end - start)\n",
      "\n",
      "# \treturn filterMat\n",
      "\n",
      "\tfilterMat = np.zeros((wordLen, origLen))\n",
      "\tfor i in range(wordLen):\n",
      "\t\tstart, end = startIdxs[i], endIdxs[i]\n",
      "\t\tfilterMat[i, start:end] = 1. / (end - start)\n",
      "\n",
      "\treturn filterMat.T\n",
      "\n",
      "print saxMat(8, 4)\n",
      "print saxMat(6, 4)"
     ],
     "language": "python",
     "metadata": {},
     "outputs": [
      {
       "output_type": "stream",
       "stream": "stdout",
       "text": [
        "[[ 0.5  0.   0.   0. ]\n",
        " [ 0.5  0.   0.   0. ]\n",
        " [ 0.   0.5  0.   0. ]\n",
        " [ 0.   0.5  0.   0. ]\n",
        " [ 0.   0.   0.5  0. ]\n",
        " [ 0.   0.   0.5  0. ]\n",
        " [ 0.   0.   0.   0.5]\n",
        " [ 0.   0.   0.   0.5]]\n",
        "[[ 1.  0.  0.  0.]\n",
        " [ 0.  1.  0.  0.]\n",
        " [ 0.  0.  1.  0.]\n",
        " [ 0.  0.  0.  1.]\n",
        " [ 0.  0.  0.  0.]\n",
        " [ 0.  0.  0.  0.]]\n"
       ]
      }
     ],
     "prompt_number": 68
    },
    {
     "cell_type": "code",
     "collapsed": false,
     "input": [
      "2 ** x"
     ],
     "language": "python",
     "metadata": {},
     "outputs": [
      {
       "metadata": {},
       "output_type": "pyout",
       "prompt_number": 70,
       "text": [
        "array([  1,   2,   4,   8,  16,  32,  64, 128, 256])"
       ]
      }
     ],
     "prompt_number": 70
    },
    {
     "cell_type": "code",
     "collapsed": false,
     "input": [
      "[[x, (x * (x+1))/2] for x in range(1,8)]"
     ],
     "language": "python",
     "metadata": {},
     "outputs": [
      {
       "metadata": {},
       "output_type": "pyout",
       "prompt_number": 74,
       "text": [
        "[[1, 1], [2, 3], [3, 6], [4, 10], [5, 15], [6, 21], [7, 28]]"
       ]
      }
     ],
     "prompt_number": 74
    },
    {
     "cell_type": "code",
     "collapsed": false,
     "input": [
      "age = np.arange(100)\n",
      "prob = np.exp(-.003 * np.exp((age - 25.)/10))\n",
      "plt.plot(age, pct)\n",
      "print prob[[23, 50, 75, 80]]"
     ],
     "language": "python",
     "metadata": {},
     "outputs": [
      {
       "output_type": "stream",
       "stream": "stdout",
       "text": [
        "[ 0.99754682  0.96411231  0.64067083  0.47994882]\n"
       ]
      },
      {
       "metadata": {},
       "output_type": "display_data",
       "png": "[encoded data removed]",
       "text": [
        "<matplotlib.figure.Figure at 0x116a847d0>"
       ]
      }
     ],
     "prompt_number": 79
    },
    {
     "cell_type": "code",
     "collapsed": false,
     "input": [
      "print A\n",
      "print A[1, 1:3]\n",
      "print A[1, [1, 2]]\n",
      "print A[1, (1, 2)]\n",
      "print A[1, np.array((1, 2))]\n",
      "print\n",
      "print A[:, [0, 2, 1]] # not useful\n",
      "print A[np.arange(len(A)), [0, 2, 1, 0]] # elements [0,2,1,0] from rows"
     ],
     "language": "python",
     "metadata": {},
     "outputs": [
      {
       "output_type": "stream",
       "stream": "stdout",
       "text": [
        "[[ 0  1  2]\n",
        " [ 3  4  5]\n",
        " [ 6  7  8]\n",
        " [ 9 10 11]]\n",
        "[4 5]\n",
        "[4 5]\n",
        "[4 5]"
       ]
      },
      {
       "output_type": "stream",
       "stream": "stdout",
       "text": [
        "\n",
        "[4 5]\n",
        "\n",
        "[[ 0  2  1]\n",
        " [ 3  5  4]\n",
        " [ 6  8  7]\n",
        " [ 9 11 10]]"
       ]
      },
      {
       "output_type": "stream",
       "stream": "stdout",
       "text": [
        "\n",
        "[0 5 7 9]\n"
       ]
      }
     ],
     "prompt_number": 90
    },
    {
     "cell_type": "code",
     "collapsed": false,
     "input": [
      "# how does logspace work?\n",
      "print np.logspace(np.log2(1), np.log2(100), num=5, base=2.)\n",
      "print np.logspace(np.log10(1), np.log10(100), num=5, base=10.)"
     ],
     "language": "python",
     "metadata": {},
     "outputs": [
      {
       "output_type": "stream",
       "stream": "stdout",
       "text": [
        "[  1.           3.16227766  10.          31.6227766  100.        ]\n",
        "[   1.            3.16227766   10.           31.6227766   100.        ]\n"
       ]
      }
     ],
     "prompt_number": 99
    },
    {
     "cell_type": "code",
     "collapsed": false,
     "input": [
      "T = np.empty((2, A.shape[0], A.shape[1]))\n",
      "T[0] = A\n",
      "T[1] = -A\n",
      "print T\n",
      "# print T.reshape((T.shape[1], -1)) # nope, not what I want...\n",
      "# print T.T.reshape((T.shape[1], -1)) # garbage\n",
      "\n",
      "def vstack3Tensor(X):\n",
      "\t# assumes time progresses along columns\n",
      "\treturn X.reshape((-1, X.shape[2])) # add rows for each leading dim\n",
      "\n",
      "def hstack3Tensor(X):\n",
      "\tnDims = X.shape[0]\n",
      "\ttransposed = np.empty((nDims, X.shape[2], X.shape[1]))\n",
      "\tfor dim in range(nDims):\n",
      "\t\ttransposed[dim] = X[dim].T\n",
      "\treturn vstack3Tensor(transposed).T\n",
      "\n",
      "print hstack3Tensor(T)"
     ],
     "language": "python",
     "metadata": {},
     "outputs": [
      {
       "output_type": "stream",
       "stream": "stdout",
       "text": [
        "[[[  0.   1.   2.]\n",
        "  [  3.   4.   5.]\n",
        "  [  6.   7.   8.]\n",
        "  [  9.  10.  11.]]\n",
        "\n",
        " [[  0.  -1.  -2.]\n",
        "  [ -3.  -4.  -5.]\n",
        "  [ -6.  -7.  -8.]\n",
        "  [ -9. -10. -11.]]]\n",
        "[[  0.   1.   2.   0.  -1.  -2.]\n",
        " [  3.   4.   5.  -3.  -4.  -5.]\n",
        " [  6.   7.   8.  -6.  -7.  -8.]\n",
        " [  9.  10.  11.  -9. -10. -11.]]"
       ]
      },
      {
       "output_type": "stream",
       "stream": "stdout",
       "text": [
        "\n"
       ]
      }
     ],
     "prompt_number": 113
    },
    {
     "cell_type": "code",
     "collapsed": false,
     "input": [
      " A[[1,3]]"
     ],
     "language": "python",
     "metadata": {},
     "outputs": [
      {
       "metadata": {},
       "output_type": "pyout",
       "prompt_number": 114,
       "text": [
        "array([[ 3,  4,  5],\n",
        "       [ 9, 10, 11]])"
       ]
      }
     ],
     "prompt_number": 114
    },
    {
     "cell_type": "code",
     "collapsed": false,
     "input": [
      "4 * (1. - 1.)"
     ],
     "language": "python",
     "metadata": {},
     "outputs": [
      {
       "metadata": {},
       "output_type": "pyout",
       "prompt_number": 116,
       "text": [
        "0.0"
       ]
      }
     ],
     "prompt_number": 116
    },
    {
     "cell_type": "code",
     "collapsed": false,
     "input": [
      "print A[:, 1:3]\n",
      "print A[:, [1,2]]\n",
      "print A[:, (1,2)]"
     ],
     "language": "python",
     "metadata": {},
     "outputs": [
      {
       "output_type": "stream",
       "stream": "stdout",
       "text": [
        "[[ 1  2]\n",
        " [ 4  5]\n",
        " [ 7  8]\n",
        " [10 11]]\n",
        "[[ 1  2]\n",
        " [ 4  5]\n",
        " [ 7  8]\n",
        " [10 11]]\n",
        "[[ 1  2]\n",
        " [ 4  5]\n",
        " [ 7  8]\n",
        " [10 11]]\n"
       ]
      }
     ],
     "prompt_number": 5
    },
    {
     "cell_type": "code",
     "collapsed": false,
     "input": [
      "d = {'a': 1, 'b': 2, 'c': 3}\n",
      "print d\n",
      "print isinstance(d, dict)"
     ],
     "language": "python",
     "metadata": {},
     "outputs": [
      {
       "output_type": "stream",
       "stream": "stdout",
       "text": [
        "{'a': 1, 'b': 2}\n",
        "True\n"
       ]
      }
     ],
     "prompt_number": 3
    },
    {
     "cell_type": "code",
     "collapsed": false,
     "input": [
      "a = [1, 5, 5, 4, 2, 2]\n",
      "print a\n",
      "print\n",
      "uniq, idxs, inverse = np.unique(a, return_index=True, return_inverse=True)\n",
      "print uniq\n",
      "print idxs\n",
      "print inverse"
     ],
     "language": "python",
     "metadata": {},
     "outputs": [
      {
       "output_type": "stream",
       "stream": "stdout",
       "text": [
        "[1, 5, 5, 4, 2, 2]\n",
        "\n",
        "[1 2 4 5]"
       ]
      },
      {
       "output_type": "stream",
       "stream": "stdout",
       "text": [
        "\n",
        "[0 4 3 1]\n",
        "[0 3 3 2 1 1]\n"
       ]
      }
     ],
     "prompt_number": 8
    },
    {
     "cell_type": "code",
     "collapsed": false,
     "input": [
      "ord('a')"
     ],
     "language": "python",
     "metadata": {},
     "outputs": [
      {
       "metadata": {},
       "output_type": "pyout",
       "prompt_number": 9,
       "text": [
        "97"
       ]
      }
     ],
     "prompt_number": 9
    },
    {
     "cell_type": "code",
     "collapsed": false,
     "input": [
      "d\n",
      "len(d)"
     ],
     "language": "python",
     "metadata": {},
     "outputs": [
      {
       "metadata": {},
       "output_type": "pyout",
       "prompt_number": 11,
       "text": [
        "2"
       ]
      }
     ],
     "prompt_number": 11
    },
    {
     "cell_type": "code",
     "collapsed": false,
     "input": [
      "ord('abc')"
     ],
     "language": "python",
     "metadata": {},
     "outputs": [
      {
       "ename": "TypeError",
       "evalue": "ord() expected a character, but string of length 3 found",
       "output_type": "pyerr",
       "traceback": [
        "\u001b[0;31m---------------------------------------------------------------------------\u001b[0m\n\u001b[0;31mTypeError\u001b[0m                                 Traceback (most recent call last)",
        "\u001b[0;32m<ipython-input-12-6930e82a821d>\u001b[0m in \u001b[0;36m<module>\u001b[0;34m()\u001b[0m\n\u001b[0;32m----> 1\u001b[0;31m \u001b[0mord\u001b[0m\u001b[0;34m(\u001b[0m\u001b[0;34m'abc'\u001b[0m\u001b[0;34m)\u001b[0m\u001b[0;34m\u001b[0m\u001b[0m\n\u001b[0m",
        "\u001b[0;31mTypeError\u001b[0m: ord() expected a character, but string of length 3 found"
       ]
      }
     ],
     "prompt_number": 12
    },
    {
     "cell_type": "code",
     "collapsed": false,
     "input": [
      "rowNorms = np.linalg.norm(A, axis=1)\n",
      "print rowNorms\n",
      "print A / rowNorms.reshape((-1, 1))"
     ],
     "language": "python",
     "metadata": {},
     "outputs": [
      {
       "output_type": "stream",
       "stream": "stdout",
       "text": [
        "[  2.23606798   7.07106781  12.20655562  17.3781472 ]\n",
        "[[ 0.          0.4472136   0.89442719]\n",
        " [ 0.42426407  0.56568542  0.70710678]\n",
        " [ 0.49153915  0.57346234  0.65538554]\n",
        " [ 0.5178918   0.57543534  0.63297887]]\n"
       ]
      }
     ],
     "prompt_number": 22
    },
    {
     "cell_type": "code",
     "collapsed": false,
     "input": [
      "Amips = A / 20.\n",
      "print Amips\n",
      "newNorms = np.linalg.norm(Amips, axis=1).reshape((-1,1))\n",
      "Aaugment = np.hstack((Amips, np.sqrt(1. - newNorms**2)))\n",
      "print Aaugment\n",
      "print np.linalg.norm(Aaugment, axis=1)"
     ],
     "language": "python",
     "metadata": {},
     "outputs": [
      {
       "output_type": "stream",
       "stream": "stdout",
       "text": [
        "[[ 0.    0.05  0.1 ]\n",
        " [ 0.15  0.2   0.25]\n",
        " [ 0.3   0.35  0.4 ]\n",
        " [ 0.45  0.5   0.55]]\n",
        "[[ 0.          0.05        0.1         0.99373035]\n",
        " [ 0.15        0.2         0.25        0.93541435]\n",
        " [ 0.3         0.35        0.4         0.79214898]\n",
        " [ 0.45        0.5         0.55        0.49497475]]"
       ]
      },
      {
       "output_type": "stream",
       "stream": "stdout",
       "text": [
        "\n",
        "[ 1.  1.  1.  1.]\n"
       ]
      }
     ],
     "prompt_number": 29
    },
    {
     "cell_type": "code",
     "collapsed": false,
     "input": [
      "print np.hstack([x[0], x[0], x])\n",
      "print [3] * 20\n",
      "print x[:50]"
     ],
     "language": "python",
     "metadata": {},
     "outputs": [
      {
       "output_type": "stream",
       "stream": "stdout",
       "text": [
        "[0 0 0 1 2 3 4 5 6 7 8]\n",
        "[3, 3, 3, 3, 3, 3, 3, 3, 3, 3, 3, 3, 3, 3, 3, 3, 3, 3, 3, 3]\n",
        "[0 1 2 3 4 5 6 7 8]\n"
       ]
      }
     ],
     "prompt_number": 41
    },
    {
     "cell_type": "code",
     "collapsed": false,
     "input": [
      "print repr(np.array(['a'] * 3))\n",
      "print repr(np.array(['a'] * 3, dtype=np.object))"
     ],
     "language": "python",
     "metadata": {},
     "outputs": [
      {
       "output_type": "stream",
       "stream": "stdout",
       "text": [
        "array(['a', 'a', 'a'], \n",
        "      dtype='|S1')\n",
        "array(['a', 'a', 'a'], dtype=object)\n"
       ]
      }
     ],
     "prompt_number": 47
    },
    {
     "cell_type": "code",
     "collapsed": false,
     "input": [
      "'abc'.replace('a', 'A')"
     ],
     "language": "python",
     "metadata": {},
     "outputs": [
      {
       "metadata": {},
       "output_type": "pyout",
       "prompt_number": 48,
       "text": [
        "'Abc'"
       ]
      }
     ],
     "prompt_number": 48
    },
    {
     "cell_type": "code",
     "collapsed": false,
     "input": [
      "l\n",
      "l2 = []\n",
      "l2.append(l[2:4])\n",
      "l2.append(l[2:10])\n",
      "print l2\n",
      "l3 = []\n",
      "print l3 + l2\n",
      "arr = np.array(l2)\n",
      "print arr\n",
      "print arr[-1]"
     ],
     "language": "python",
     "metadata": {},
     "outputs": [
      {
       "output_type": "stream",
       "stream": "stdout",
       "text": [
        "[[2, 4], [2, 4]]\n",
        "[[2, 4], [2, 4]]\n",
        "[[2 4]\n",
        " [2 4]]"
       ]
      },
      {
       "output_type": "stream",
       "stream": "stdout",
       "text": [
        "\n",
        "[2 4]\n"
       ]
      }
     ],
     "prompt_number": 56
    },
    {
     "cell_type": "code",
     "collapsed": false,
     "input": [
      "import os\n",
      "os.path.join(\"foo\", \"\", \"bar\")"
     ],
     "language": "python",
     "metadata": {},
     "outputs": [
      {
       "metadata": {},
       "output_type": "pyout",
       "prompt_number": 58,
       "text": [
        "'foo/bar'"
       ]
      }
     ],
     "prompt_number": 58
    },
    {
     "cell_type": "code",
     "collapsed": false,
     "input": [
      "x\n",
      "x[::3]"
     ],
     "language": "python",
     "metadata": {},
     "outputs": [
      {
       "metadata": {},
       "output_type": "pyout",
       "prompt_number": 60,
       "text": [
        "array([0, 3, 6])"
       ]
      }
     ],
     "prompt_number": 60
    },
    {
     "cell_type": "code",
     "collapsed": false,
     "input": [
      "print l\n",
      "print l + l"
     ],
     "language": "python",
     "metadata": {},
     "outputs": [
      {
       "output_type": "stream",
       "stream": "stdout",
       "text": [
        "[1, 3, 2, 4]\n",
        "[1, 3, 2, 4, 1, 3, 2, 4]\n"
       ]
      }
     ],
     "prompt_number": 65
    },
    {
     "cell_type": "code",
     "collapsed": false,
     "input": [
      "print x\n",
      "print np.append(x, np.random.choice(x))\n",
      "xl = list(x)\n",
      "print xl[:2] + xl[3:]"
     ],
     "language": "python",
     "metadata": {},
     "outputs": [
      {
       "output_type": "stream",
       "stream": "stdout",
       "text": [
        "[0 1 2 3 4 5 6 7 8]\n",
        "[0 1 2 3 4 5 6 7 8 8]\n",
        "[0, 1, 3, 4, 5, 6, 7, 8]"
       ]
      },
      {
       "output_type": "stream",
       "stream": "stdout",
       "text": [
        "\n"
       ]
      }
     ],
     "prompt_number": 76
    },
    {
     "cell_type": "code",
     "collapsed": false,
     "input": [
      "l2 = [l, l, l]\n",
      "print l2\n",
      "np.array(l2)"
     ],
     "language": "python",
     "metadata": {},
     "outputs": [
      {
       "output_type": "stream",
       "stream": "stdout",
       "text": [
        "[[1, 3, 2, 4], [1, 3, 2, 4], [1, 3, 2, 4]]\n"
       ]
      },
      {
       "metadata": {},
       "output_type": "pyout",
       "prompt_number": 79,
       "text": [
        "array([[1, 3, 2, 4],\n",
        "       [1, 3, 2, 4],\n",
        "       [1, 3, 2, 4]])"
       ]
      }
     ],
     "prompt_number": 79
    },
    {
     "cell_type": "code",
     "collapsed": false,
     "input": [
      "d\n",
      "d2 = {'c': 3}\n",
      "import copy\n",
      "d3 = copy.copy(d)\n",
      "print d3\n",
      "d3.update(d2)\n",
      "print d3"
     ],
     "language": "python",
     "metadata": {},
     "outputs": [
      {
       "output_type": "stream",
       "stream": "stdout",
       "text": [
        "{'a': 1, 'b': 2}\n",
        "{'a': 1, 'c': 3, 'b': 2}\n"
       ]
      }
     ],
     "prompt_number": 85
    },
    {
     "cell_type": "code",
     "collapsed": false,
     "input": [
      "np.std([3])"
     ],
     "language": "python",
     "metadata": {},
     "outputs": [
      {
       "metadata": {},
       "output_type": "pyout",
       "prompt_number": 86,
       "text": [
        "0.0"
       ]
      }
     ],
     "prompt_number": 86
    },
    {
     "cell_type": "code",
     "collapsed": false,
     "input": [
      "print l\n",
      "print np.std(l)\n",
      "np.std([])\n",
      "print np.sort(set((3,1,2)))\n",
      "print np.sort(list(set((3,1,2))))\n",
      "print np.sort(list(set((3,1,2)))).shape"
     ],
     "language": "python",
     "metadata": {},
     "outputs": [
      {
       "output_type": "stream",
       "stream": "stdout",
       "text": [
        "[1, 3, 2, 4]\n",
        "1.11803398875\n",
        "set([1, 2, 3])"
       ]
      },
      {
       "output_type": "stream",
       "stream": "stdout",
       "text": [
        "\n",
        "[1 2 3]\n",
        "(3,)\n",
        "[1 2 3]"
       ]
      },
      {
       "output_type": "stream",
       "stream": "stdout",
       "text": [
        "\n"
       ]
      }
     ],
     "prompt_number": 98
    },
    {
     "cell_type": "code",
     "collapsed": false,
     "input": [
      "np.arange(2, 4 + .5, .5)\n",
      "np.arange(1.6, 2.3, .15)"
     ],
     "language": "python",
     "metadata": {},
     "outputs": [
      {
       "metadata": {},
       "output_type": "pyout",
       "prompt_number": 103,
       "text": [
        "array([ 1.6 ,  1.75,  1.9 ,  2.05,  2.2 ])"
       ]
      }
     ],
     "prompt_number": 103
    },
    {
     "cell_type": "code",
     "collapsed": false,
     "input": [
      "B = np.copy(A)\n",
      "B[0] = (3,3,3)\n",
      "B"
     ],
     "language": "python",
     "metadata": {},
     "outputs": [
      {
       "metadata": {},
       "output_type": "pyout",
       "prompt_number": 7,
       "text": [
        "array([[ 3,  3,  3],\n",
        "       [ 3,  4,  5],\n",
        "       [ 6,  7,  8],\n",
        "       [ 9, 10, 11]])"
       ]
      }
     ],
     "prompt_number": 7
    },
    {
     "cell_type": "code",
     "collapsed": false,
     "input": [
      "print l\n",
      "print np.copy(l)"
     ],
     "language": "python",
     "metadata": {},
     "outputs": [
      {
       "output_type": "stream",
       "stream": "stdout",
       "text": [
        "[1, 3, 2, 4]\n",
        "[1 3 2 4]\n"
       ]
      }
     ],
     "prompt_number": 4
    },
    {
     "cell_type": "code",
     "collapsed": false,
     "input": [
      "x = np.array([[1, 1], [2, 2]])\n",
      "X = np.arange(12).reshape((2, -1))\n",
      "from scipy import signal as sig\n",
      "\n",
      "print sig.correlate2d(X, x, mode='valid').flatten()\n",
      "\n",
      "for i in range(len(X.T) - 1):\n",
      "    print np.sum(x * X[:,i:i+2])"
     ],
     "language": "python",
     "metadata": {},
     "outputs": [
      {
       "output_type": "stream",
       "stream": "stdout",
       "text": [
        "[27 33 39 45 51]\n",
        "27\n",
        "33\n",
        "39\n",
        "45\n",
        "51\n"
       ]
      }
     ],
     "prompt_number": 12
    },
    {
     "cell_type": "code",
     "collapsed": false,
     "input": [
      "x = np.arange(5)\n",
      "print np.append(x, [-1])\n",
      "print np.append(x, -1)"
     ],
     "language": "python",
     "metadata": {},
     "outputs": [
      {
       "output_type": "stream",
       "stream": "stdout",
       "text": [
        "[ 0  1  2  3  4 -1]\n",
        "[ 0  1  2  3  4 -1]\n"
       ]
      }
     ],
     "prompt_number": 15
    },
    {
     "cell_type": "code",
     "collapsed": false,
     "input": [
      "gains = np.random.randn(5,5)\n",
      "print (gains > 0)\n",
      "gains * (gains > 0)"
     ],
     "language": "python",
     "metadata": {},
     "outputs": [
      {
       "output_type": "stream",
       "stream": "stdout",
       "text": [
        "[[ True False False False  True]\n",
        " [False False False False  True]\n",
        " [False  True  True False  True]\n",
        " [ True  True  True  True False]\n",
        " [ True  True False  True False]]\n"
       ]
      },
      {
       "metadata": {},
       "output_type": "pyout",
       "prompt_number": 19,
       "text": [
        "array([[ 1.00293799, -0.        , -0.        , -0.        ,  1.26178301],\n",
        "       [-0.        , -0.        , -0.        , -0.        ,  1.11865304],\n",
        "       [-0.        ,  0.52674634,  0.56035196, -0.        ,  0.9082665 ],\n",
        "       [ 0.14635371,  1.74640125,  0.35616502,  0.83678395, -0.        ],\n",
        "       [ 0.08436306,  1.48986375, -0.        ,  1.85017025, -0.        ]])"
       ]
      }
     ],
     "prompt_number": 19
    },
    {
     "cell_type": "code",
     "collapsed": false,
     "input": [
      "# fig, axes = plt.subplots(2, 5, figsize=(10,8))\n",
      "# print axes\n",
      "# print axes.flatten()"
     ],
     "language": "python",
     "metadata": {},
     "outputs": [],
     "prompt_number": 22
    },
    {
     "cell_type": "code",
     "collapsed": false,
     "input": [
      "mask = A > 0\n",
      "print mask\n",
      "idxs = np.where(A > 0)\n",
      "print idxs\n",
      "print\n",
      "print A[mask]\n",
      "print A[idxs]"
     ],
     "language": "python",
     "metadata": {},
     "outputs": [
      {
       "output_type": "stream",
       "stream": "stdout",
       "text": [
        "[[False  True  True]\n",
        " [ True  True  True]\n",
        " [ True  True  True]\n",
        " [ True  True  True]]\n",
        "(array([0, 0, 1, 1, 1, 2, 2, 2, 3, 3, 3]), array([1, 2, 0, 1, 2, 0, 1, 2, 0, 1, 2]))\n",
        "\n"
       ]
      },
      {
       "output_type": "stream",
       "stream": "stdout",
       "text": [
        "[ 1  2  3  4  5  6  7  8  9 10 11]\n",
        "[ 1  2  3  4  5  6  7  8  9 10 11]\n"
       ]
      }
     ],
     "prompt_number": 28
    },
    {
     "cell_type": "code",
     "collapsed": false,
     "input": [
      "B = np.zeros((4,3)) + 7\n",
      "print B\n",
      "B[:] = 0\n",
      "print B"
     ],
     "language": "python",
     "metadata": {},
     "outputs": [
      {
       "output_type": "stream",
       "stream": "stdout",
       "text": [
        "[[ 7.  7.  7.]\n",
        " [ 7.  7.  7.]\n",
        " [ 7.  7.  7.]\n",
        " [ 7.  7.  7.]]\n",
        "[[ 0.  0.  0.]\n",
        " [ 0.  0.  0.]\n",
        " [ 0.  0.  0.]\n",
        " [ 0.  0.  0.]]\n"
       ]
      }
     ],
     "prompt_number": 31
    },
    {
     "cell_type": "code",
     "collapsed": false,
     "input": [
      "np.maximum([np.log(0)], [0])"
     ],
     "language": "python",
     "metadata": {},
     "outputs": [
      {
       "metadata": {},
       "output_type": "pyout",
       "prompt_number": 36,
       "text": [
        "array([ 0.])"
       ]
      }
     ],
     "prompt_number": 36
    },
    {
     "cell_type": "code",
     "collapsed": false,
     "input": [
      "X = np.array([0,1,1,1,1,0,1,0,0,1,1,1,0,1,0])\n",
      "print np.max(X > 0)"
     ],
     "language": "python",
     "metadata": {},
     "outputs": [
      {
       "output_type": "stream",
       "stream": "stdout",
       "text": [
        "True\n"
       ]
      }
     ],
     "prompt_number": 38
    },
    {
     "cell_type": "code",
     "collapsed": false,
     "input": [
      "np.random.randn(4,3)"
     ],
     "language": "python",
     "metadata": {},
     "outputs": [
      {
       "metadata": {},
       "output_type": "pyout",
       "prompt_number": 40,
       "text": [
        "array([[ 0.61668957,  1.42071182, -0.40607884],\n",
        "       [ 1.47055673,  1.5408724 , -0.05598736],\n",
        "       [-1.14912962, -0.90028814, -1.6297542 ],\n",
        "       [-0.59258562, -0.79848367,  0.8873844 ]])"
       ]
      }
     ],
     "prompt_number": 40
    },
    {
     "cell_type": "code",
     "collapsed": false,
     "input": [
      "min(37 // 2, 75)\n",
      "max(18, 8)"
     ],
     "language": "python",
     "metadata": {},
     "outputs": [
      {
       "metadata": {},
       "output_type": "pyout",
       "prompt_number": 43,
       "text": [
        "18"
       ]
      }
     ],
     "prompt_number": 43
    },
    {
     "cell_type": "code",
     "collapsed": false,
     "input": [
      "np.sqrt(np.inf)"
     ],
     "language": "python",
     "metadata": {},
     "outputs": [
      {
       "metadata": {},
       "output_type": "pyout",
       "prompt_number": 44,
       "text": [
        "inf"
       ]
      }
     ],
     "prompt_number": 44
    },
    {
     "cell_type": "code",
     "collapsed": false,
     "input": [
      "uniqs, counts = np.unique(['a','b','a'], return_counts=True)\n",
      "print uniqs, counts\n",
      "uniqs, counts = np.unique([], return_counts=True)\n",
      "print uniqs, counts\n",
      "# print np.max(counts) # throws\n",
      "uniqs, counts = np.unique(['a'], return_counts=True)\n",
      "print uniqs, counts"
     ],
     "language": "python",
     "metadata": {},
     "outputs": [
      {
       "output_type": "stream",
       "stream": "stdout",
       "text": [
        "['a' 'b'] [2 1]\n",
        "[] []\n",
        "['a']"
       ]
      },
      {
       "output_type": "stream",
       "stream": "stdout",
       "text": [
        " [1]\n"
       ]
      }
     ],
     "prompt_number": 50
    },
    {
     "cell_type": "code",
     "collapsed": false,
     "input": [
      "None > 0\n",
      "max(1, None)"
     ],
     "language": "python",
     "metadata": {},
     "outputs": [
      {
       "metadata": {},
       "output_type": "pyout",
       "prompt_number": 52,
       "text": [
        "1"
       ]
      }
     ],
     "prompt_number": 52
    },
    {
     "cell_type": "code",
     "collapsed": false,
     "input": [
      "import os\n",
      "os.path.join('foo', 'bar', 'baz')"
     ],
     "language": "python",
     "metadata": {},
     "outputs": [
      {
       "metadata": {},
       "output_type": "pyout",
       "prompt_number": 54,
       "text": [
        "'foo/bar/baz'"
       ]
      }
     ],
     "prompt_number": 54
    },
    {
     "cell_type": "code",
     "collapsed": false,
     "input": [
      "print np.random.choice(np.arange(10, 20), 2)\n",
      "print list(np.random.choice(np.arange(10, 20), 2))"
     ],
     "language": "python",
     "metadata": {},
     "outputs": [
      {
       "output_type": "stream",
       "stream": "stdout",
       "text": [
        "[15 10]\n",
        "[16, 18]\n"
       ]
      }
     ],
     "prompt_number": 2
    },
    {
     "cell_type": "code",
     "collapsed": false,
     "input": [
      "if np.nan:\n",
      "    print \"nan is true\""
     ],
     "language": "python",
     "metadata": {},
     "outputs": [
      {
       "output_type": "stream",
       "stream": "stdout",
       "text": [
        "nan is true\n"
       ]
      }
     ],
     "prompt_number": 4
    },
    {
     "cell_type": "code",
     "collapsed": false,
     "input": [
      "# load dataframes to play with; src = \n",
      "# http://pandas.pydata.org/pandas-docs/stable/merging.html\n",
      "df1 = pd.DataFrame({'A': ['A0', 'A1', 'A2', 'A3'],\n",
      "                     'B': ['B0', 'B1', 'B2', 'B3'],\n",
      "                     'C': ['C0', 'C1', 'C2', 'C3'],\n",
      "                     'D': ['D0', 'D1', 'D2', 'D3']},\n",
      "                     index=[0, 1, 2, 3])\n",
      "df2 = pd.DataFrame({'A': ['A4', 'A5', 'A6', 'A7'],\n",
      "                     'B': ['B4', 'B5', 'B6', 'B7'],\n",
      "                     'C': ['C4', 'C5', 'C6', 'C7'],\n",
      "                     'D': ['D4', 'D5', 'D6', 'D7']},\n",
      "                      index=[4, 5, 6, 7])\n",
      "df3 = pd.DataFrame({'A': ['A8', 'A9', 'A10', 'A11'],\n",
      "                     'B': ['B8', 'B9', 'B10', 'B11'],\n",
      "                     'C': ['C8', 'C9', 'C10', 'C11'],\n",
      "                     'D': ['D8', 'D9', 'D10', 'D11']},\n",
      "                     index=[8, 9, 10, 11])\n",
      "print df1\n",
      "print df2\n",
      "print df3"
     ],
     "language": "python",
     "metadata": {},
     "outputs": [
      {
       "output_type": "stream",
       "stream": "stdout",
       "text": [
        "    A   B   C   D\n",
        "0  A0  B0  C0  D0\n",
        "1  A1  B1  C1  D1\n",
        "2  A2  B2  C2  D2\n",
        "3  A3  B3  C3  D3\n",
        "    A   B   C   D\n",
        "4  A4  B4  C4  D4\n",
        "5  A5  B5  C5  D5\n",
        "6  A6  B6  C6  D6\n",
        "7  A7  B7  C7  D7\n",
        "      A    B    C    D\n",
        "8    A8   B8   C8   D8\n",
        "9    A9   B9   C9   D9\n",
        "10  A10  B10  C10  D10\n",
        "11  A11  B11  C11  D11\n"
       ]
      }
     ],
     "prompt_number": 23
    },
    {
     "cell_type": "code",
     "collapsed": false,
     "input": [
      "df4 = df1[['A', 'C', 'D']] # select the \"relevant\" columns\n",
      "df5 = df4.set_index('A')\n",
      "print df5\n",
      "print len(df5)"
     ],
     "language": "python",
     "metadata": {},
     "outputs": [
      {
       "output_type": "stream",
       "stream": "stdout",
       "text": [
        "     C   D\n",
        "A         \n",
        "A0  C0  D0\n",
        "A1  C1  D1\n",
        "A2  C2  D2\n",
        "A3  C3  D3\n",
        "4\n"
       ]
      }
     ],
     "prompt_number": 33
    },
    {
     "cell_type": "code",
     "collapsed": false,
     "input": [
      "df5.ix['A0']['C']"
     ],
     "language": "python",
     "metadata": {},
     "outputs": [
      {
       "metadata": {},
       "output_type": "pyout",
       "prompt_number": 39,
       "text": [
        "'C0'"
       ]
      }
     ],
     "prompt_number": 39
    },
    {
     "cell_type": "code",
     "collapsed": false,
     "input": [
      "print df1\n",
      "print\n",
      "print pd.melt(df1, id_vars='C') # melts *everything*\n",
      "print\n",
      "print pd.melt(df1, id_vars='C', value_vars=['A']) # melts *everything*, but only keeps A....\n",
      "print\n",
      "print pd.melt(df1, id_vars='C', value_vars=['A', 'B']) # melts *everything*, but only keeps A....\n",
      "print\n",
      "print pd.melt(df1, id_vars=['C', 'D'], value_vars=['A']) # melts *everything*, but only keeps A....\n",
      "\n",
      "\n",
      "# So here's what melt() does:\n",
      "# -keep the values in id_vars\n",
      "# -for all other cols:\n",
      "#   -throw them away if value_vars is specified and\n",
      "#   they aren't in the list give\n",
      "#   -if not discarded, treat each col *name* as the value of a \n",
      "#   categorical variable that's basically a key, and record the\n",
      "#   value in that col (where the index cols have whatever values)\n",
      "#   as the value associated with that key\n",
      "#\n",
      "# basically, split cols into id cols, which become like an index, and\n",
      "# other cols, then flatten other cols into a bunch of kv pairs, where\n",
      "# the key is the col name and value is whatever the value is when\n",
      "# id cols take on those values; this means replicating sets of values in\n",
      "# the id cols multiple times if there are multiple values\n",
      "# \n",
      "# or, even more briefly, it takes one record with a bunch of fields and\n",
      "# turns it into a bunch of records with one field\n",
      "#  -and the \"index\" vars let you uniquely identify which records refer \n",
      "#  to the same underlying thing\n",
      "#\n",
      "# I don't actually know why you would use this"
     ],
     "language": "python",
     "metadata": {},
     "outputs": [
      {
       "output_type": "stream",
       "stream": "stdout",
       "text": [
        "    A   B   C   D\n",
        "0  A0  B0  C0  D0\n",
        "1  A1  B1  C1  D1\n",
        "2  A2  B2  C2  D2\n",
        "3  A3  B3  C3  D3\n",
        "\n",
        "     C variable value\n",
        "0   C0        A    A0\n",
        "1   C1        A    A1\n",
        "2   C2        A    A2\n",
        "3   C3        A    A3\n",
        "4   C0        B    B0\n",
        "5   C1        B    B1\n",
        "6   C2        B    B2\n",
        "7   C3        B    B3\n",
        "8   C0        D    D0\n",
        "9   C1        D    D1\n",
        "10  C2        D    D2\n",
        "11  C3        D    D3\n",
        "\n"
       ]
      },
      {
       "output_type": "stream",
       "stream": "stdout",
       "text": [
        "    C variable value\n",
        "0  C0        A    A0\n",
        "1  C1        A    A1\n",
        "2  C2        A    A2\n",
        "3  C3        A    A3\n",
        "\n",
        "    C variable value\n",
        "0  C0        A    A0\n",
        "1  C1        A    A1\n",
        "2  C2        A    A2\n",
        "3  C3        A    A3\n",
        "4  C0        B    B0\n",
        "5  C1        B    B1\n",
        "6  C2        B    B2\n",
        "7  C3        B    B3\n",
        "\n"
       ]
      },
      {
       "output_type": "stream",
       "stream": "stdout",
       "text": [
        "    C   D variable value\n",
        "0  C0  D0        A    A0\n",
        "1  C1  D1        A    A1\n",
        "2  C2  D2        A    A2\n",
        "3  C3  D3        A    A3\n"
       ]
      }
     ],
     "prompt_number": 33
    },
    {
     "cell_type": "code",
     "collapsed": false,
     "input": [
      "# DataFrame.pivot(index=None, columns=None, values=None)\n",
      "# http://pandas.pydata.org/pandas-docs/stable/generated/pandas.DataFrame.pivot.html#pandas.DataFrame.pivot\n",
      "print df1\n",
      "print\n",
      "# df5 = df1.drop('D', axis=1)\n",
      "df5 = df1\n",
      "# print df1.pivot(index=['A']) # throws\n",
      "print df5.pivot(index='A', columns='B')\n",
      "print\n",
      "print df5.pivot(index='A', columns='B', values='C')\n",
      "\n",
      "# so this would do something useful if there were multiple values of \n",
      "# C or D for a given value of A and B, but since there's only 1, there's\n",
      "# only one non-nan element per row/col.\n",
      "#\n",
      "# the idea is that it creates another dataframe with an index\n",
      "# given by the values in the \"index\" columns, and creates a column\n",
      "# for each value in the \"columns\" column(s). It populates this df using\n",
      "# the data in the remaining columns (creating a hierarchical column\n",
      "# index if there's more than one remaining column, apparently...)\n",
      "#\n",
      "# more concisely, it takes a bunch of records with one variable (but\n",
      "# that refer to the \"same thing\" according to the index vars) and\n",
      "# turns them into one record with a bunch of variables\n"
     ],
     "language": "python",
     "metadata": {},
     "outputs": [
      {
       "output_type": "stream",
       "stream": "stdout",
       "text": [
        "    A   B   C   D\n",
        "0  A0  B0  C0  D0\n",
        "1  A1  B1  C1  D1\n",
        "2  A2  B2  C2  D2\n",
        "3  A3  B3  C3  D3\n",
        "\n",
        "      C                   D               \n",
        "B    B0   B1   B2   B3   B0   B1   B2   B3\n",
        "A                                         \n",
        "A0   C0  NaN  NaN  NaN   D0  NaN  NaN  NaN\n",
        "A1  NaN   C1  NaN  NaN  NaN   D1  NaN  NaN\n",
        "A2  NaN  NaN   C2  NaN  NaN  NaN   D2  NaN\n",
        "A3  NaN  NaN  NaN   C3  NaN  NaN  NaN   D3"
       ]
      },
      {
       "output_type": "stream",
       "stream": "stdout",
       "text": [
        "\n",
        "\n",
        "B    B0   B1   B2   B3\n",
        "A                     \n",
        "A0   C0  NaN  NaN  NaN\n",
        "A1  NaN   C1  NaN  NaN\n",
        "A2  NaN  NaN   C2  NaN\n",
        "A3  NaN  NaN  NaN   C3\n"
       ]
      }
     ],
     "prompt_number": 34
    },
    {
     "cell_type": "code",
     "collapsed": false,
     "input": [
      "s = '[1, 2, 3]'\n",
      "splitStr = s.strip('[').strip(']').split(',')\n",
      "numList = [int(s) for s in splitStr]\n",
      "print np.array(numList)"
     ],
     "language": "python",
     "metadata": {},
     "outputs": [
      {
       "output_type": "stream",
       "stream": "stdout",
       "text": [
        "[1 2 3]\n"
       ]
      }
     ],
     "prompt_number": 11
    },
    {
     "cell_type": "code",
     "collapsed": false,
     "input": [
      "import seaborn as sb\n",
      "sb.set_context('talk')\n",
      "gammas = sb.load_dataset('gammas')\n",
      "print gammas.columns.values\n",
      "ax = sb.tsplot(time=\"timepoint\", value=\"BOLD signal\", unit=\"subject\", condition=\"ROI\", data=gammas)\n",
      "# ax = sb.tsplot(time=\"timepoint\", value=\"BOLD signal\", condition=\"ROI\", data=gammas, n_boot=0)\n",
      "# ^ \"cannot label index with a null key\" when we don't tell it the unit\n"
     ],
     "language": "python",
     "metadata": {},
     "outputs": [
      {
       "output_type": "stream",
       "stream": "stdout",
       "text": [
        "['timepoint' 'ROI' 'subject' 'BOLD signal']\n"
       ]
      },
      {
       "metadata": {},
       "output_type": "display_data",
       "png": "[encoded data removed]",
       "text": [
        "<matplotlib.figure.Figure at 0x117e830d0>"
       ]
      }
     ],
     "prompt_number": 19
    },
    {
     "cell_type": "code",
     "collapsed": false,
     "input": [
      "import os\n",
      "os.path.join(None, 'foo')"
     ],
     "language": "python",
     "metadata": {},
     "outputs": [
      {
       "ename": "AttributeError",
       "evalue": "'NoneType' object has no attribute 'endswith'",
       "output_type": "pyerr",
       "traceback": [
        "\u001b[0;31m---------------------------------------------------------------------------\u001b[0m\n\u001b[0;31mAttributeError\u001b[0m                            Traceback (most recent call last)",
        "\u001b[0;32m<ipython-input-21-a311833522d9>\u001b[0m in \u001b[0;36m<module>\u001b[0;34m()\u001b[0m\n\u001b[1;32m      1\u001b[0m \u001b[0;32mimport\u001b[0m \u001b[0mos\u001b[0m\u001b[0;34m\u001b[0m\u001b[0m\n\u001b[0;32m----> 2\u001b[0;31m \u001b[0mos\u001b[0m\u001b[0;34m.\u001b[0m\u001b[0mpath\u001b[0m\u001b[0;34m.\u001b[0m\u001b[0mjoin\u001b[0m\u001b[0;34m(\u001b[0m\u001b[0mNone\u001b[0m\u001b[0;34m,\u001b[0m \u001b[0;34m'foo'\u001b[0m\u001b[0;34m)\u001b[0m\u001b[0;34m\u001b[0m\u001b[0m\n\u001b[0m",
        "\u001b[0;32m//anaconda/python.app/Contents/lib/python2.7/posixpath.pyc\u001b[0m in \u001b[0;36mjoin\u001b[0;34m(a, *p)\u001b[0m\n\u001b[1;32m     68\u001b[0m         \u001b[0;32mif\u001b[0m \u001b[0mb\u001b[0m\u001b[0;34m.\u001b[0m\u001b[0mstartswith\u001b[0m\u001b[0;34m(\u001b[0m\u001b[0;34m'/'\u001b[0m\u001b[0;34m)\u001b[0m\u001b[0;34m:\u001b[0m\u001b[0;34m\u001b[0m\u001b[0m\n\u001b[1;32m     69\u001b[0m             \u001b[0mpath\u001b[0m \u001b[0;34m=\u001b[0m \u001b[0mb\u001b[0m\u001b[0;34m\u001b[0m\u001b[0m\n\u001b[0;32m---> 70\u001b[0;31m         \u001b[0;32melif\u001b[0m \u001b[0mpath\u001b[0m \u001b[0;34m==\u001b[0m \u001b[0;34m''\u001b[0m \u001b[0;32mor\u001b[0m \u001b[0mpath\u001b[0m\u001b[0;34m.\u001b[0m\u001b[0mendswith\u001b[0m\u001b[0;34m(\u001b[0m\u001b[0;34m'/'\u001b[0m\u001b[0;34m)\u001b[0m\u001b[0;34m:\u001b[0m\u001b[0;34m\u001b[0m\u001b[0m\n\u001b[0m\u001b[1;32m     71\u001b[0m             \u001b[0mpath\u001b[0m \u001b[0;34m+=\u001b[0m  \u001b[0mb\u001b[0m\u001b[0;34m\u001b[0m\u001b[0m\n\u001b[1;32m     72\u001b[0m         \u001b[0;32melse\u001b[0m\u001b[0;34m:\u001b[0m\u001b[0;34m\u001b[0m\u001b[0m\n",
        "\u001b[0;31mAttributeError\u001b[0m: 'NoneType' object has no attribute 'endswith'"
       ]
      }
     ],
     "prompt_number": 21
    },
    {
     "cell_type": "code",
     "collapsed": false,
     "input": [
      "# print [i for i in range(3) for j in range(2)]\n",
      "print [(i, j) for i in range(3) for j in range(2)]"
     ],
     "language": "python",
     "metadata": {},
     "outputs": [
      {
       "output_type": "stream",
       "stream": "stdout",
       "text": [
        "[(0, 0), (0, 1), (1, 0), (1, 1), (2, 0), (2, 1)]\n"
       ]
      }
     ],
     "prompt_number": 23
    },
    {
     "cell_type": "code",
     "collapsed": false,
     "input": [
      "print d\n",
      "t = True\n",
      "t &= False\n",
      "print t"
     ],
     "language": "python",
     "metadata": {},
     "outputs": [
      {
       "output_type": "stream",
       "stream": "stdout",
       "text": [
        "{'a': 1, 'c': 3, 'b': 2}\n",
        "False"
       ]
      },
      {
       "output_type": "stream",
       "stream": "stdout",
       "text": [
        "\n"
       ]
      }
     ],
     "prompt_number": 8
    },
    {
     "cell_type": "code",
     "collapsed": false,
     "input": [
      "a = np.arange(5)\n",
      "list(a)\n",
      "# list(None) # throws\n",
      "list([])\n",
      "import os\n",
      "print os.path.join(None)\n",
      "print os.path.join([])"
     ],
     "language": "python",
     "metadata": {},
     "outputs": [
      {
       "output_type": "stream",
       "stream": "stdout",
       "text": [
        "None\n",
        "[]\n"
       ]
      }
     ],
     "prompt_number": 18
    },
    {
     "cell_type": "code",
     "collapsed": false,
     "input": [
      "d = {'a': 1, 'c': 3, 'b': 2}\n",
      "print d.setdefault('a', 5)\n",
      "print d\n",
      "print\n",
      "print d.setdefault('d', 4)\n",
      "print d"
     ],
     "language": "python",
     "metadata": {},
     "outputs": [
      {
       "output_type": "stream",
       "stream": "stdout",
       "text": [
        "1\n",
        "{'a': 1, 'c': 3, 'b': 2}\n",
        "\n",
        "4"
       ]
      },
      {
       "output_type": "stream",
       "stream": "stdout",
       "text": [
        "\n",
        "{'a': 1, 'c': 3, 'b': 2, 'd': 4}\n"
       ]
      }
     ],
     "prompt_number": 23
    },
    {
     "cell_type": "code",
     "collapsed": false,
     "input": [
      "from pprint import pprint\n",
      "pprint(d)"
     ],
     "language": "python",
     "metadata": {},
     "outputs": [
      {
       "output_type": "stream",
       "stream": "stdout",
       "text": [
        "{'a': 1, 'b': 2, 'c': 3, 'd': 4}\n"
       ]
      }
     ],
     "prompt_number": 26
    },
    {
     "cell_type": "code",
     "collapsed": false,
     "input": [
      "# figure out how to make ts 1D using PCA\n",
      "from sklearn.decomposition import TruncatedSVD\n",
      "X = []\n",
      "for i in range(5):\n",
      "    v = np.sin(np.linspace(0, 6, 100))\n",
      "    X.append(v)\n",
      "    X.append(v + np.random.randn(*v.shape) / 2.)\n",
      "X = np.vstack(X).T # each col of x is 1 dimension\n",
      "plt.plot(X)\n",
      "\n",
      "vect = TruncatedSVD(n_components=1).fit_transform(X)\n",
      "plt.figure()\n",
      "plt.plot(vect)\n"
     ],
     "language": "python",
     "metadata": {},
     "outputs": [
      {
       "metadata": {},
       "output_type": "pyout",
       "prompt_number": 39,
       "text": [
        "[<matplotlib.lines.Line2D at 0x1170de090>]"
       ]
      },
      {
       "metadata": {},
       "output_type": "display_data",
       "png": "[encoded data removed]",
       "text": [
        "<matplotlib.figure.Figure at 0x11762c390>"
       ]
      },
      {
       "metadata": {},
       "output_type": "display_data",
       "png": "[encoded data removed]",
       "text": [
        "<matplotlib.figure.Figure at 0x1176c5150>"
       ]
      }
     ],
     "prompt_number": 39
    },
    {
     "cell_type": "code",
     "collapsed": false,
     "input": [
      "print x\n",
      "print np.append(x, np.zeros(0))"
     ],
     "language": "python",
     "metadata": {},
     "outputs": [
      {
       "output_type": "stream",
       "stream": "stdout",
       "text": [
        "[0 1 2 3 4 5 6 7 8]\n",
        "[ 0.  1.  2.  3.  4.  5.  6.  7.  8.]\n"
       ]
      }
     ],
     "prompt_number": 46
    },
    {
     "cell_type": "code",
     "collapsed": false,
     "input": [
      "print x\n",
      "idxs = np.array([1,2,4], dtype=np.int)\n",
      "np.vstack([x[i:i+2] for i in idxs])"
     ],
     "language": "python",
     "metadata": {},
     "outputs": [
      {
       "output_type": "stream",
       "stream": "stdout",
       "text": [
        "[0 1 2 3 4 5 6 7 8]\n"
       ]
      },
      {
       "metadata": {},
       "output_type": "pyout",
       "prompt_number": 53,
       "text": [
        "array([[1, 2],\n",
        "       [2, 3],\n",
        "       [4, 5]])"
       ]
      }
     ],
     "prompt_number": 53
    },
    {
     "cell_type": "code",
     "collapsed": false,
     "input": [
      "np.mean(A, axis=1, keepdims=True)"
     ],
     "language": "python",
     "metadata": {},
     "outputs": [
      {
       "metadata": {},
       "output_type": "pyout",
       "prompt_number": 55,
       "text": [
        "array([[  1.],\n",
        "       [  4.],\n",
        "       [  7.],\n",
        "       [ 10.]])"
       ]
      }
     ],
     "prompt_number": 55
    },
    {
     "cell_type": "code",
     "collapsed": false,
     "input": [
      "np.ceil(1045 / 16)"
     ],
     "language": "python",
     "metadata": {},
     "outputs": [
      {
       "metadata": {},
       "output_type": "pyout",
       "prompt_number": 58,
       "text": [
        "65.0"
       ]
      }
     ],
     "prompt_number": 58
    },
    {
     "cell_type": "code",
     "collapsed": false,
     "input": [
      "l = [1, 3, 2, 4]\n",
      "l.insert(2, 99)\n",
      "print l"
     ],
     "language": "python",
     "metadata": {},
     "outputs": [
      {
       "output_type": "stream",
       "stream": "stdout",
       "text": [
        "[1, 3, 99, 2, 4]\n"
       ]
      }
     ],
     "prompt_number": 67
    },
    {
     "cell_type": "code",
     "collapsed": false,
     "input": [
      "ll = [(1, 2), (3, 4), (5, 6)]\n",
      "print zip(*ll)\n",
      "ll2 = [np.array(el) for el in ll]\n",
      "print zip(*ll2) # works with arrays too (as it should)"
     ],
     "language": "python",
     "metadata": {},
     "outputs": [
      {
       "output_type": "stream",
       "stream": "stdout",
       "text": [
        "[(1, 3, 5), (2, 4, 6)]\n",
        "[(1, 3, 5), (2, 4, 6)]\n"
       ]
      }
     ],
     "prompt_number": 70
    },
    {
     "cell_type": "code",
     "collapsed": false,
     "input": [
      "idxs = np.arange(3)\n",
      "print A\n",
      "print A[[idxs, idxs]]"
     ],
     "language": "python",
     "metadata": {},
     "outputs": [
      {
       "output_type": "stream",
       "stream": "stdout",
       "text": [
        "[[ 0  1  2]\n",
        " [ 3  4  5]\n",
        " [ 6  7  8]\n",
        " [ 9 10 11]]\n",
        "[0 4 8]\n"
       ]
      }
     ],
     "prompt_number": 64
    },
    {
     "cell_type": "code",
     "collapsed": false,
     "input": [
      "print x\n",
      "print np.hstack((x, x))"
     ],
     "language": "python",
     "metadata": {},
     "outputs": [
      {
       "output_type": "stream",
       "stream": "stdout",
       "text": [
        "[0 1 2 3 4 5 6 7 8]\n",
        "[0 1 2 3 4 5 6 7 8 0 1 2 3 4 5 6 7 8]\n"
       ]
      }
     ],
     "prompt_number": 67
    },
    {
     "cell_type": "code",
     "collapsed": false,
     "input": [
      "[None] * 5"
     ],
     "language": "python",
     "metadata": {},
     "outputs": [
      {
       "metadata": {},
       "output_type": "pyout",
       "prompt_number": 68,
       "text": [
        "[None, None, None, None, None]"
       ]
      }
     ],
     "prompt_number": 68
    },
    {
     "cell_type": "code",
     "collapsed": false,
     "input": [
      "print np.logspace(-4, 4, 3)"
     ],
     "language": "python",
     "metadata": {},
     "outputs": [
      {
       "output_type": "stream",
       "stream": "stdout",
       "text": [
        "[  1.00000000e-04   1.00000000e+00   1.00000000e+04]\n"
       ]
      }
     ],
     "prompt_number": 70
    },
    {
     "cell_type": "code",
     "collapsed": false,
     "input": [
      "print d\n",
      "print zip(*d.items())\n",
      "print list(d)\n",
      "print dict([(v, k) for k, v in d.items()])"
     ],
     "language": "python",
     "metadata": {},
     "outputs": [
      {
       "output_type": "stream",
       "stream": "stdout",
       "text": [
        "{'a': 1, 'c': 3, 'b': 2}\n",
        "[('a', 'c', 'b'), (1, 3, 2)]\n",
        "['a', 'c', 'b']\n",
        "{1: 'a', 2: 'b', 3: 'c'}"
       ]
      },
      {
       "output_type": "stream",
       "stream": "stdout",
       "text": [
        "\n"
       ]
      }
     ],
     "prompt_number": 7
    },
    {
     "cell_type": "code",
     "collapsed": false,
     "input": [
      "np.random.randn(3,4)"
     ],
     "language": "python",
     "metadata": {},
     "outputs": [
      {
       "metadata": {},
       "output_type": "pyout",
       "prompt_number": 9,
       "text": [
        "array([[-0.11030662,  0.59889602, -0.76816246,  0.06651416],\n",
        "       [-0.73167015, -0.38723073,  0.03111508, -1.0512609 ],\n",
        "       [-0.00806305,  0.7402428 ,  2.22282908, -0.05659071]])"
       ]
      }
     ],
     "prompt_number": 9
    },
    {
     "cell_type": "code",
     "collapsed": false,
     "input": [
      "a = np.random.randn(5)\n",
      "print a\n",
      "print a.astype(np.int32)\n",
      "print np.floor(a).astype(np.int32)"
     ],
     "language": "python",
     "metadata": {},
     "outputs": [
      {
       "output_type": "stream",
       "stream": "stdout",
       "text": [
        "[-1.04913536  1.18888735 -0.84217456  1.05444047  0.99907314]\n",
        "[-1  1  0  1  0]\n",
        "[-2  1 -1  1  0]\n"
       ]
      }
     ],
     "prompt_number": 14
    },
    {
     "cell_type": "code",
     "collapsed": false,
     "input": [
      "# from collections import defaultdict\n",
      "# dd = defaultdict(defaultdict)"
     ],
     "language": "python",
     "metadata": {},
     "outputs": [
      {
       "ename": "NameError",
       "evalue": "name 'dd' is not defined",
       "output_type": "pyerr",
       "traceback": [
        "\u001b[0;31m---------------------------------------------------------------------------\u001b[0m\n\u001b[0;31mNameError\u001b[0m                                 Traceback (most recent call last)",
        "\u001b[0;32m<ipython-input-15-b064a020db80>\u001b[0m in \u001b[0;36m<module>\u001b[0;34m()\u001b[0m\n\u001b[0;32m----> 1\u001b[0;31m \u001b[0mdd\u001b[0m\u001b[0;34m\u001b[0m\u001b[0m\n\u001b[0m",
        "\u001b[0;31mNameError\u001b[0m: name 'dd' is not defined"
       ]
      }
     ],
     "prompt_number": 15
    },
    {
     "cell_type": "code",
     "collapsed": false,
     "input": [
      "x[::-1][:-1]"
     ],
     "language": "python",
     "metadata": {},
     "outputs": [
      {
       "metadata": {},
       "output_type": "pyout",
       "prompt_number": 18,
       "text": [
        "array([8, 7, 6, 5, 4, 3, 2, 1])"
       ]
      }
     ],
     "prompt_number": 18
    },
    {
     "cell_type": "code",
     "collapsed": false,
     "input": [
      "B = A.astype(np.float)\n",
      "print B\n",
      "print B * (B > 3.5)"
     ],
     "language": "python",
     "metadata": {},
     "outputs": [
      {
       "output_type": "stream",
       "stream": "stdout",
       "text": [
        "[[  0.   1.   2.]\n",
        " [  3.   4.   5.]\n",
        " [  6.   7.   8.]\n",
        " [  9.  10.  11.]]\n",
        "[[  0.   0.   0.]\n",
        " [  0.   4.   5.]\n",
        " [  6.   7.   8.]\n",
        " [  9.  10.  11.]]\n"
       ]
      }
     ],
     "prompt_number": 22
    },
    {
     "cell_type": "code",
     "collapsed": false,
     "input": [
      "x\n",
      "2 <= x <= 7"
     ],
     "language": "python",
     "metadata": {},
     "outputs": [
      {
       "ename": "ValueError",
       "evalue": "The truth value of an array with more than one element is ambiguous. Use a.any() or a.all()",
       "output_type": "pyerr",
       "traceback": [
        "\u001b[0;31m---------------------------------------------------------------------------\u001b[0m\n\u001b[0;31mValueError\u001b[0m                                Traceback (most recent call last)",
        "\u001b[0;32m<ipython-input-28-3b3f3555fba7>\u001b[0m in \u001b[0;36m<module>\u001b[0;34m()\u001b[0m\n\u001b[1;32m      1\u001b[0m \u001b[0mx\u001b[0m\u001b[0;34m\u001b[0m\u001b[0m\n\u001b[0;32m----> 2\u001b[0;31m \u001b[0;36m2\u001b[0m \u001b[0;34m<=\u001b[0m \u001b[0mx\u001b[0m \u001b[0;34m<=\u001b[0m \u001b[0;36m7\u001b[0m\u001b[0;34m\u001b[0m\u001b[0m\n\u001b[0m",
        "\u001b[0;31mValueError\u001b[0m: The truth value of an array with more than one element is ambiguous. Use a.any() or a.all()"
       ]
      }
     ],
     "prompt_number": 28
    },
    {
     "cell_type": "code",
     "collapsed": false,
     "input": [
      "# is numpy pad func worth using?\n",
      "# -> not really; super awkward to only pad 1 dimension\n",
      "ax0Pad = 0\n",
      "ax1Pad = 2\n",
      "print np.lib.pad(A, [(ax0Pad, ax0Pad),(ax1Pad, ax1Pad)], mode='constant')\n",
      "print np.lib.pad(A, [(ax0Pad, ax0Pad),(ax1Pad, ax1Pad)], mode='edge')"
     ],
     "language": "python",
     "metadata": {},
     "outputs": [
      {
       "output_type": "stream",
       "stream": "stdout",
       "text": [
        "[[ 0  0  0  1  2  0  0]\n",
        " [ 0  0  3  4  5  0  0]\n",
        " [ 0  0  6  7  8  0  0]\n",
        " [ 0  0  9 10 11  0  0]]\n",
        "[[ 0  0  0  1  2  2  2]\n",
        " [ 3  3  3  4  5  5  5]\n",
        " [ 6  6  6  7  8  8  8]\n",
        " [ 9  9  9 10 11 11 11]]\n"
       ]
      }
     ],
     "prompt_number": 37
    },
    {
     "cell_type": "code",
     "collapsed": false,
     "input": [
      "s = 'bletchKey=bletchVal'\n",
      "print s.split('=')\n",
      "print len(s.split('='))"
     ],
     "language": "python",
     "metadata": {},
     "outputs": [
      {
       "output_type": "stream",
       "stream": "stdout",
       "text": [
        "['bletchKey', 'bletchVal']\n",
        "2\n"
       ]
      }
     ],
     "prompt_number": 40
    },
    {
     "cell_type": "code",
     "collapsed": false,
     "input": [
      "range(5, 0-1, -1)"
     ],
     "language": "python",
     "metadata": {},
     "outputs": [
      {
       "metadata": {},
       "output_type": "pyout",
       "prompt_number": 42,
       "text": [
        "[5, 4, 3, 2, 1, 0]"
       ]
      }
     ],
     "prompt_number": 42
    },
    {
     "cell_type": "code",
     "collapsed": false,
     "input": [
      "from collections import namedtuple\n",
      "_fields = [\n",
      "\t'children',\n",
      "\t'is_leaf'\n",
      "]\n",
      "\n",
      "Node = namedtuple('Node', _fields)\n",
      "Node.__new__.__defaults__ = ([], True)\n",
      "\n",
      "Node()"
     ],
     "language": "python",
     "metadata": {},
     "outputs": [
      {
       "metadata": {},
       "output_type": "pyout",
       "prompt_number": 52,
       "text": [
        "Node(children=[], is_leaf=True)"
       ]
      }
     ],
     "prompt_number": 52
    },
    {
     "cell_type": "code",
     "collapsed": false,
     "input": [
      "# bonferroni correction vs sidak correction\n",
      "#\n",
      "# Hmm...it appears that there's effectively no \n",
      "# difference between them whatsoever unless\n",
      "# alpha is huge\n",
      "k = np.linspace(1, 10, 100)\n",
      "for alpha in (.01, .05, .1, .5):\n",
      "    y1 = 1 - (1. - alpha) ** (1./k) # sidak\n",
      "    y2 = alpha / k # bonferroni\n",
      "    plt.plot(k, y1, 'b')\n",
      "    plt.plot(k, y2, 'r')\n",
      "    plt.xlim([1, np.max(k)])\n",
      "    plt.ylim([0, alpha])\n",
      "    plt.show()"
     ],
     "language": "python",
     "metadata": {},
     "outputs": [
      {
       "metadata": {},
       "output_type": "display_data",
       "png": "[encoded data removed]",
       "text": [
        "<matplotlib.figure.Figure at 0x117386d50>"
       ]
      },
      {
       "metadata": {},
       "output_type": "display_data",
       "png": "[encoded data removed]",
       "text": [
        "<matplotlib.figure.Figure at 0x116742b50>"
       ]
      },
      {
       "metadata": {},
       "output_type": "display_data",
       "png": "[encoded data removed]",
       "text": [
        "<matplotlib.figure.Figure at 0x116f2a8d0>"
       ]
      },
      {
       "metadata": {},
       "output_type": "display_data",
       "png": "[encoded data removed]",
       "text": [
        "<matplotlib.figure.Figure at 0x116a4b1d0>"
       ]
      }
     ],
     "prompt_number": 71
    },
    {
     "cell_type": "code",
     "collapsed": false,
     "input": [
      "l\n",
      "l2 = l[:]\n",
      "l3 = l[:]\n",
      "print l2\n",
      "print l2[1:-1]\n",
      "l2[1:-1] = ''\n",
      "print l2\n",
      "l3[1] = ''\n",
      "l3[2] = ''\n",
      "print l3"
     ],
     "language": "python",
     "metadata": {},
     "outputs": [
      {
       "output_type": "stream",
       "stream": "stdout",
       "text": [
        "[1, 3, 2, 4]\n",
        "[3, 2]\n",
        "[1, 4]"
       ]
      },
      {
       "output_type": "stream",
       "stream": "stdout",
       "text": [
        "\n",
        "[1, '', '', 4]"
       ]
      },
      {
       "output_type": "stream",
       "stream": "stdout",
       "text": [
        "\n"
       ]
      }
     ],
     "prompt_number": 6
    },
    {
     "cell_type": "code",
     "collapsed": false,
     "input": [
      "print d\n",
      "print {k: d[k] for k in ('a', 'c')}"
     ],
     "language": "python",
     "metadata": {},
     "outputs": [
      {
       "output_type": "stream",
       "stream": "stdout",
       "text": [
        "{'a': 1, 'c': 3, 'b': 2}\n",
        "{'a': 1, 'c': 3}\n"
       ]
      }
     ],
     "prompt_number": 9
    },
    {
     "cell_type": "code",
     "collapsed": false,
     "input": [
      "y = [3,2,-1,2,1]\n",
      "print np.unique(y, return_inverse=True)"
     ],
     "language": "python",
     "metadata": {},
     "outputs": [
      {
       "output_type": "stream",
       "stream": "stdout",
       "text": [
        "(array([-1,  1,  2,  3]), array([3, 2, 0, 2, 1]))\n"
       ]
      }
     ],
     "prompt_number": 14
    },
    {
     "cell_type": "code",
     "collapsed": false,
     "input": [
      "5.0 // 3.0"
     ],
     "language": "python",
     "metadata": {},
     "outputs": [
      {
       "metadata": {},
       "output_type": "pyout",
       "prompt_number": 15,
       "text": [
        "1.0"
       ]
      }
     ],
     "prompt_number": 15
    },
    {
     "cell_type": "code",
     "collapsed": false,
     "input": [
      "lll = [[]] * 3\n",
      "print lll\n",
      "lll[0].append(3)\n",
      "print lll # ugh, bad! copied same list pointer 3 times...\n",
      "print\n",
      "l3 = [[] for i in range(3)]\n",
      "print l3\n",
      "l3[0].append(3)\n",
      "print l3"
     ],
     "language": "python",
     "metadata": {},
     "outputs": [
      {
       "output_type": "stream",
       "stream": "stdout",
       "text": [
        "[[], [], []]\n",
        "[[3], [3], [3]]\n",
        "\n"
       ]
      },
      {
       "output_type": "stream",
       "stream": "stdout",
       "text": [
        "[[], [], []]\n",
        "[[3], [], []]\n"
       ]
      }
     ],
     "prompt_number": 18
    },
    {
     "cell_type": "code",
     "collapsed": false,
     "input": [
      "# am I calling setattr right?\n",
      "class C(object):\n",
      "    pass\n",
      "\n",
      "o = C()\n",
      "print o\n",
      "setattr(o, 'foo', 7)\n",
      "print o.__dict__['foo']\n",
      "\n",
      "print\n",
      "print d\n",
      "o.__dict__.update(d)\n",
      "print [o.__dict__[k] for k in d]"
     ],
     "language": "python",
     "metadata": {},
     "outputs": [
      {
       "output_type": "stream",
       "stream": "stdout",
       "text": [
        "<__main__.C object at 0x1147ca950>\n",
        "7\n",
        "\n"
       ]
      },
      {
       "output_type": "stream",
       "stream": "stdout",
       "text": [
        "{'a': 1, 'c': 3, 'b': 2}\n",
        "[1, 3, 2]\n"
       ]
      }
     ],
     "prompt_number": 23
    },
    {
     "cell_type": "code",
     "collapsed": false,
     "input": [
      "lll = [[0,1],[2,3],[4,6]]\n",
      "print zip(*lll)\n",
      "print zip(*lll)[1]"
     ],
     "language": "python",
     "metadata": {},
     "outputs": [
      {
       "output_type": "stream",
       "stream": "stdout",
       "text": [
        "[(0, 2, 4), (1, 3, 6)]\n",
        "(1, 3, 6)\n"
       ]
      }
     ],
     "prompt_number": 26
    },
    {
     "cell_type": "code",
     "collapsed": false,
     "input": [],
     "language": "python",
     "metadata": {},
     "outputs": []
    }
   ],
   "metadata": {}
  }
 ]
}